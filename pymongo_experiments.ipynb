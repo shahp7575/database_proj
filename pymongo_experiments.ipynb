{
 "cells": [
  {
   "cell_type": "code",
   "execution_count": 49,
   "metadata": {},
   "outputs": [],
   "source": [
    "import numpy as np\n",
    "import pandas as pd\n",
    "import sys\n",
    "\n",
    "# tweepy\n",
    "from tweepy.streaming import StreamListener\n",
    "from tweepy import OAuthHandler\n",
    "from tweepy import Stream\n",
    "\n",
    "# pymongo\n",
    "import config\n",
    "import ppp\n",
    "import pymongo\n",
    "from pymongo import MongoClient\n",
    "import dnspython\n",
    "import urllib.parse"
   ]
  },
  {
   "cell_type": "code",
   "execution_count": 48,
   "metadata": {},
   "outputs": [],
   "source": [
    "# Twitter API\n",
    "access_token = config.access_token\n",
    "access_token_secret = config.access_token_secret\n",
    "consumer_key = config.consumer_key\n",
    "consumer_secret = config.consumer_secret"
   ]
  },
  {
   "cell_type": "markdown",
   "metadata": {},
   "source": [
    "## SQLITE"
   ]
  },
  {
   "cell_type": "code",
   "execution_count": 3,
   "metadata": {},
   "outputs": [],
   "source": [
    "import sqlite3"
   ]
  },
  {
   "cell_type": "code",
   "execution_count": 4,
   "metadata": {},
   "outputs": [],
   "source": [
    "conn = sqlite3.connect('test.db')\n",
    "c = conn.cursor()"
   ]
  },
  {
   "cell_type": "code",
   "execution_count": 5,
   "metadata": {},
   "outputs": [
    {
     "data": {
      "text/plain": [
       "<sqlite3.Cursor at 0x7fe818e1d420>"
      ]
     },
     "execution_count": 5,
     "metadata": {},
     "output_type": "execute_result"
    }
   ],
   "source": [
    "c.execute(\"create table coffee (main_id varchar(40), id varchar(20), name varchar(50), followers integer null, following integer null)\")"
   ]
  },
  {
   "cell_type": "markdown",
   "metadata": {},
   "source": [
    "## JSON to SQLite"
   ]
  },
  {
   "cell_type": "code",
   "execution_count": 20,
   "metadata": {},
   "outputs": [
    {
     "ename": "FileNotFoundError",
     "evalue": "[Errno 2] No such file or directory: 'data/test-out'",
     "output_type": "error",
     "traceback": [
      "\u001b[0;31m---------------------------------------------------------------------------\u001b[0m",
      "\u001b[0;31mFileNotFoundError\u001b[0m                         Traceback (most recent call last)",
      "\u001b[0;32m<ipython-input-20-6ef612c647e3>\u001b[0m in \u001b[0;36m<module>\u001b[0;34m\u001b[0m\n\u001b[1;32m      1\u001b[0m \u001b[0;32mimport\u001b[0m \u001b[0mjson\u001b[0m\u001b[0;34m\u001b[0m\u001b[0;34m\u001b[0m\u001b[0m\n\u001b[0;32m----> 2\u001b[0;31m \u001b[0;32mwith\u001b[0m \u001b[0mopen\u001b[0m\u001b[0;34m(\u001b[0m\u001b[0;34m\"data/test-out\"\u001b[0m\u001b[0;34m,\u001b[0m \u001b[0;34m\"r\"\u001b[0m\u001b[0;34m)\u001b[0m \u001b[0;32mas\u001b[0m \u001b[0mf1\u001b[0m\u001b[0;34m:\u001b[0m\u001b[0;34m\u001b[0m\u001b[0;34m\u001b[0m\u001b[0m\n\u001b[0m\u001b[1;32m      3\u001b[0m     \u001b[0;32mfor\u001b[0m \u001b[0mline\u001b[0m \u001b[0;32min\u001b[0m \u001b[0mf1\u001b[0m\u001b[0;34m:\u001b[0m\u001b[0;34m\u001b[0m\u001b[0;34m\u001b[0m\u001b[0m\n\u001b[1;32m      4\u001b[0m         \u001b[0;32mtry\u001b[0m\u001b[0;34m:\u001b[0m\u001b[0;34m\u001b[0m\u001b[0;34m\u001b[0m\u001b[0m\n\u001b[1;32m      5\u001b[0m             \u001b[0mdata\u001b[0m \u001b[0;34m=\u001b[0m \u001b[0mjson\u001b[0m\u001b[0;34m.\u001b[0m\u001b[0mloads\u001b[0m\u001b[0;34m(\u001b[0m\u001b[0mline\u001b[0m\u001b[0;34m)\u001b[0m\u001b[0;34m\u001b[0m\u001b[0;34m\u001b[0m\u001b[0m\n",
      "\u001b[0;31mFileNotFoundError\u001b[0m: [Errno 2] No such file or directory: 'data/test-out'"
     ]
    }
   ],
   "source": [
    "import json\n",
    "with open(\"data/test-out (2)\", \"r\") as f1:\n",
    "    for line in f1:\n",
    "        try:\n",
    "            data = json.loads(line)\n",
    "            c.execute(\"insert into coffee values (?, ?, ?, ?, ?)\",\n",
    "                      [data['id_str'], data['user']['id'], data['user']['screen_name'], data['user']['followers_count'], data['user']['friends_count']])\n",
    "        except:\n",
    "            continue"
   ]
  },
  {
   "cell_type": "code",
   "execution_count": 31,
   "metadata": {},
   "outputs": [],
   "source": [
    "cursor = conn.execute(\"select * from coffee where main_id == '1253318056299749378'\")\n",
    "rows = cursor.fetchall()"
   ]
  },
  {
   "cell_type": "code",
   "execution_count": 32,
   "metadata": {},
   "outputs": [
    {
     "name": "stdout",
     "output_type": "stream",
     "text": [
      "('1253318056299749378', '2168169565', 'jdabc0507s2', 252, 877)\n"
     ]
    }
   ],
   "source": [
    "for row in rows:\n",
    "    print(row)"
   ]
  },
  {
   "cell_type": "markdown",
   "metadata": {},
   "source": [
    "## JSON to MongoDB"
   ]
  },
  {
   "cell_type": "code",
   "execution_count": 50,
   "metadata": {},
   "outputs": [],
   "source": [
    "# setting mongodb config\n",
    "username = urllib.parse.quote_plus(ppp.username)\n",
    "password = urllib.parse.quote_plus(ppp.password)\n",
    "cluster = MongoClient('mongodb+srv://%s:%s@cluster0-tlu5n.mongodb.net/test?retryWrites=true&w=majority' % (username, password))"
   ]
  },
  {
   "cell_type": "code",
   "execution_count": 51,
   "metadata": {},
   "outputs": [],
   "source": [
    "# defining cluster and collection\n",
    "db = cluster[\"coffee_twitter\"]\n",
    "collection = db[\"tweets\"]"
   ]
  },
  {
   "cell_type": "code",
   "execution_count": 11,
   "metadata": {},
   "outputs": [],
   "source": [
    "# reading json and pushing tweet contents to MongoDB database\n",
    "with open(\"data/test-out (2)\", \"r\") as f1:\n",
    "    for line in f1:\n",
    "        try:\n",
    "            data = json.loads(line)\n",
    "            idx = data['id_str']\n",
    "            full_tweet = data['retweeted_status']['extended_tweet']['full_text']\n",
    "            lang = data['lang']\n",
    "            retweeted = data['retweeted']\n",
    "            reply_count = data['reply_count']\n",
    "            retweet_count = data['retweet_count']\n",
    "            \n",
    "            post = {\"id\": idx, \"full_tweet\": full_tweet, \"lang\": lang, \"retweeted\": retweeted, \"reply_count\": reply_count,\n",
    "                    \"retweet_count\": retweet_count}\n",
    "            \n",
    "            collection.insert_one(post)\n",
    "        except:\n",
    "            continue"
   ]
  },
  {
   "cell_type": "markdown",
   "metadata": {},
   "source": [
    "## Find Information"
   ]
  },
  {
   "cell_type": "code",
   "execution_count": 12,
   "metadata": {},
   "outputs": [
    {
     "name": "stdout",
     "output_type": "stream",
     "text": [
      "<pymongo.cursor.Cursor object at 0x7fe818d00828>\n"
     ]
    }
   ],
   "source": [
    "# query\n",
    "results = collection.find({\"id\": \"1253317430220337152\"})\n",
    "print(results)"
   ]
  },
  {
   "cell_type": "code",
   "execution_count": 28,
   "metadata": {
    "collapsed": true,
    "jupyter": {
     "outputs_hidden": true
    }
   },
   "outputs": [
    {
     "name": "stdout",
     "output_type": "stream",
     "text": [
      "I typically brew my coffee with milk and sugar all at the same time lol. Btw I will drink all of this alone in about an hour or 2 https://t.co/Q9xn6A2qKN\n",
      "***\n",
      "I typically brew my coffee with milk and sugar all at the same time lol. Btw I will drink all of this alone in about an hour or 2 https://t.co/Q9xn6A2qKN\n",
      "***\n",
      "hey guys, so if you add milk/creamer/sugar/etc to coffee do they count as condiments because you add them to cover to give it flavour? if so, is coffee also a condiment because you add it to water to give it flavour?\n",
      "***\n",
      "hey guys, so if you add milk/creamer/sugar/etc to coffee do they count as condiments because you add them to cover to give it flavour? if so, is coffee also a condiment because you add it to water to give it flavour?\n",
      "***\n",
      "hey guys, so if you add milk/creamer/sugar/etc to coffee do they count as condiments because you add them to cover to give it flavour? if so, is coffee also a condiment because you add it to water to give it flavour?\n",
      "***\n",
      "hey guys, so if you add milk/creamer/sugar/etc to coffee do they count as condiments because you add them to cover to give it flavour? if so, is coffee also a condiment because you add it to water to give it flavour?\n",
      "***\n",
      "A woman’s integrity is questioned more for relying on her husband than it is for relying on sugar, coffee, ‘wine time’, ‘the girls’, her parents or the government.\n",
      "\n",
      "To me this is insulting: is a woman’s judgement so untrustworthy?\n",
      "\n",
      "And illogical: what’s more empowering?\n",
      "***\n",
      "A woman’s integrity is questioned more for relying on her husband than it is for relying on sugar, coffee, ‘wine time’, ‘the girls’, her parents or the government.\n",
      "\n",
      "To me this is insulting: is a woman’s judgement so untrustworthy?\n",
      "\n",
      "And illogical: what’s more empowering?\n",
      "***\n",
      "A woman’s integrity is questioned more for relying on her husband than it is for relying on sugar, coffee, ‘wine time’, ‘the girls’, her parents or the government.\n",
      "\n",
      "To me this is insulting: is a woman’s judgement so untrustworthy?\n",
      "\n",
      "And illogical: what’s more empowering?\n",
      "***\n",
      "A woman’s integrity is questioned more for relying on her husband than it is for relying on sugar, coffee, ‘wine time’, ‘the girls’, her parents or the government.\n",
      "\n",
      "To me this is insulting: is a woman’s judgement so untrustworthy?\n",
      "\n",
      "And illogical: what’s more empowering?\n",
      "***\n",
      "So I stopped to get gas this morning on the way to work.  At the convenience store, there's a coffee bar.  So I do my usual - coffee with LOTS of creamer and sugar.  Take it up to the counter to pay and the check-out girl noticed all the cream and made a comment, \"So you like...\"\n",
      "***\n",
      "So I stopped to get gas this morning on the way to work.  At the convenience store, there's a coffee bar.  So I do my usual - coffee with LOTS of creamer and sugar.  Take it up to the counter to pay and the check-out girl noticed all the cream and made a comment, \"So you like...\"\n",
      "***\n",
      "So I stopped to get gas this morning on the way to work.  At the convenience store, there's a coffee bar.  So I do my usual - coffee with LOTS of creamer and sugar.  Take it up to the counter to pay and the check-out girl noticed all the cream and made a comment, \"So you like...\"\n",
      "***\n",
      "Week #2 of strengthening 🏋🏽‍♀️ and countless sprint repeats 😩 on the hockey field. I don’t like coffee so the @NPL_SA BCAA Ultra with 5 grams amino acids, zero sugar or carbs is my go to energy drink 💪🏾😤 https://t.co/sHLGzyxuLS\n",
      "***\n",
      "Week #2 of strengthening 🏋🏽‍♀️ and countless sprint repeats 😩 on the hockey field. I don’t like coffee so the @NPL_SA BCAA Ultra with 5 grams amino acids, zero sugar or carbs is my go to energy drink 💪🏾😤 https://t.co/sHLGzyxuLS\n",
      "***\n",
      "From the makers of the Pesach Box comes the Coffee Room Box, Start the zman at home!\n",
      "- Tasters Choice Coffee\n",
      "- Lipton Tea\n",
      "- Thin Red Straws\n",
      "- Styrofoam Cups\n",
      "- Cake of unknown origin, but please take\n",
      "- Liebers Sugar\n",
      "- Milk (smell it first)\n",
      "- Flyers with used car ads\n",
      "***\n",
      "From the makers of the Pesach Box comes the Coffee Room Box, Start the zman at home!\n",
      "- Tasters Choice Coffee\n",
      "- Lipton Tea\n",
      "- Thin Red Straws\n",
      "- Styrofoam Cups\n",
      "- Cake of unknown origin, but please take\n",
      "- Liebers Sugar\n",
      "- Milk (smell it first)\n",
      "- Flyers with used car ads\n",
      "***\n",
      "From the makers of the Pesach Box comes the Coffee Room Box, Start the zman at home!\n",
      "- Tasters Choice Coffee\n",
      "- Lipton Tea\n",
      "- Thin Red Straws\n",
      "- Styrofoam Cups\n",
      "- Cake of unknown origin, but please take\n",
      "- Liebers Sugar\n",
      "- Milk (smell it first)\n",
      "- Flyers with used car ads\n",
      "***\n",
      "From the makers of the Pesach Box comes the Coffee Room Box, Start the zman at home!\n",
      "- Tasters Choice Coffee\n",
      "- Lipton Tea\n",
      "- Thin Red Straws\n",
      "- Styrofoam Cups\n",
      "- Cake of unknown origin, but please take\n",
      "- Liebers Sugar\n",
      "- Milk (smell it first)\n",
      "- Flyers with used car ads\n",
      "***\n",
      "From the makers of the Pesach Box comes the Coffee Room Box, Start the zman at home!\n",
      "- Tasters Choice Coffee\n",
      "- Lipton Tea\n",
      "- Thin Red Straws\n",
      "- Styrofoam Cups\n",
      "- Cake of unknown origin, but please take\n",
      "- Liebers Sugar\n",
      "- Milk (smell it first)\n",
      "- Flyers with used car ads\n",
      "***\n",
      "From the makers of the Pesach Box comes the Coffee Room Box, Start the zman at home!\n",
      "- Tasters Choice Coffee\n",
      "- Lipton Tea\n",
      "- Thin Red Straws\n",
      "- Styrofoam Cups\n",
      "- Cake of unknown origin, but please take\n",
      "- Liebers Sugar\n",
      "- Milk (smell it first)\n",
      "- Flyers with used car ads\n",
      "***\n",
      "From the makers of the Pesach Box comes the Coffee Room Box, Start the zman at home!\n",
      "- Tasters Choice Coffee\n",
      "- Lipton Tea\n",
      "- Thin Red Straws\n",
      "- Styrofoam Cups\n",
      "- Cake of unknown origin, but please take\n",
      "- Liebers Sugar\n",
      "- Milk (smell it first)\n",
      "- Flyers with used car ads\n",
      "***\n",
      "From the makers of the Pesach Box comes the Coffee Room Box, Start the zman at home!\n",
      "- Tasters Choice Coffee\n",
      "- Lipton Tea\n",
      "- Thin Red Straws\n",
      "- Styrofoam Cups\n",
      "- Cake of unknown origin, but please take\n",
      "- Liebers Sugar\n",
      "- Milk (smell it first)\n",
      "- Flyers with used car ads\n",
      "***\n",
      "🧁 COFFEE SUGAR 🧁\n",
      "\n",
      "Una historia dulce y romántica que te atrapará desde la primera página. Disfruta de este amor especial.\n",
      "\n",
      "Léelo aquí 👉 https://t.co/lFvke7NJNG\n",
      "\n",
      "#kindle #KindleUnlimited #romance #romantica #amor #dulce #eBooks #leer #España #Amazon https://t.co/BXa21e2Sh0\n",
      "***\n",
      "2020 Commodity Returns...\n",
      "Gold: +11%\n",
      "Palladium: -0.1%\n",
      "Wheat: -2%\n",
      "Cocoa: -7%\n",
      "Coffee: -11%\n",
      "Soybeans: -12%\n",
      "Natural Gas: -17%\n",
      "Silver: -17%\n",
      "Corn: -18%\n",
      "Copper: -20%\n",
      "Platinum: -22%\n",
      "Cotton: -22%\n",
      "Sugar: -24%\n",
      "Lumber: -26%\n",
      "Brent Crude -61%\n",
      "Heating Oil: -62%\n",
      "Gasoline: -66%\n",
      "WTI Crude: -81%\n",
      "***\n",
      "2020 Commodity Returns...\n",
      "Gold: +11%\n",
      "Palladium: -0.1%\n",
      "Wheat: -2%\n",
      "Cocoa: -7%\n",
      "Coffee: -11%\n",
      "Soybeans: -12%\n",
      "Natural Gas: -17%\n",
      "Silver: -17%\n",
      "Corn: -18%\n",
      "Copper: -20%\n",
      "Platinum: -22%\n",
      "Cotton: -22%\n",
      "Sugar: -24%\n",
      "Lumber: -26%\n",
      "Brent Crude -61%\n",
      "Heating Oil: -62%\n",
      "Gasoline: -66%\n",
      "WTI Crude: -81%\n",
      "***\n",
      "2020 Commodity Returns...\n",
      "Gold: +11%\n",
      "Palladium: -0.1%\n",
      "Wheat: -2%\n",
      "Cocoa: -7%\n",
      "Coffee: -11%\n",
      "Soybeans: -12%\n",
      "Natural Gas: -17%\n",
      "Silver: -17%\n",
      "Corn: -18%\n",
      "Copper: -20%\n",
      "Platinum: -22%\n",
      "Cotton: -22%\n",
      "Sugar: -24%\n",
      "Lumber: -26%\n",
      "Brent Crude -61%\n",
      "Heating Oil: -62%\n",
      "Gasoline: -66%\n",
      "WTI Crude: -81%\n",
      "***\n",
      "2020 Commodity Returns...\n",
      "Gold: +11%\n",
      "Palladium: -0.1%\n",
      "Wheat: -2%\n",
      "Cocoa: -7%\n",
      "Coffee: -11%\n",
      "Soybeans: -12%\n",
      "Natural Gas: -17%\n",
      "Silver: -17%\n",
      "Corn: -18%\n",
      "Copper: -20%\n",
      "Platinum: -22%\n",
      "Cotton: -22%\n",
      "Sugar: -24%\n",
      "Lumber: -26%\n",
      "Brent Crude -61%\n",
      "Heating Oil: -62%\n",
      "Gasoline: -66%\n",
      "WTI Crude: -81%\n",
      "***\n"
     ]
    }
   ],
   "source": [
    "for r in results:\n",
    "    print(r['full_tweet'] + \"\\n***\")"
   ]
  },
  {
   "cell_type": "code",
   "execution_count": 23,
   "metadata": {
    "collapsed": true,
    "jupyter": {
     "outputs_hidden": true
    }
   },
   "outputs": [
    {
     "name": "stdout",
     "output_type": "stream",
     "text": [
      "<pymongo.cursor.Cursor object at 0x7fe818d026a0>\n"
     ]
    }
   ],
   "source": [
    "# query text\n",
    "results = collection.find( { \"$text\": { \"$search\": \"java steam\" } } )\n",
    "print(results)"
   ]
  },
  {
   "cell_type": "code",
   "execution_count": 25,
   "metadata": {},
   "outputs": [
    {
     "name": "stdout",
     "output_type": "stream",
     "text": [
      "<pymongo.cursor.Cursor object at 0x7fe818d02a58>\n"
     ]
    }
   ],
   "source": [
    "# query exact phrase\n",
    "results = collection.find( { \"$text\": { \"$search\": \"\\\"coffee sugar\\\"\" } } )\n",
    "print(results)"
   ]
  },
  {
   "cell_type": "code",
   "execution_count": 27,
   "metadata": {},
   "outputs": [
    {
     "name": "stdout",
     "output_type": "stream",
     "text": [
      "<pymongo.cursor.Cursor object at 0x7fe818d02a90>\n"
     ]
    }
   ],
   "source": [
    "# query term exclusion\n",
    "results = collection.find( { \"$text\": { \"$search\": \"-black sugar\" } } )\n",
    "print(results)"
   ]
  },
  {
   "cell_type": "code",
   "execution_count": 29,
   "metadata": {},
   "outputs": [
    {
     "name": "stdout",
     "output_type": "stream",
     "text": [
      "<pymongo.cursor.Cursor object at 0x7fe818d06978>\n"
     ]
    }
   ],
   "source": [
    "# query\n",
    "results = collection.find({\"lang\": \"ja\"})\n",
    "print(results)"
   ]
  },
  {
   "cell_type": "code",
   "execution_count": 30,
   "metadata": {},
   "outputs": [
    {
     "name": "stdout",
     "output_type": "stream",
     "text": [
      "1253318056299749378\n",
      "***\n",
      "1253320464077750277\n",
      "***\n",
      "1253318187745030155\n",
      "***\n",
      "1253318393886695424\n",
      "***\n",
      "1253321382827487232\n",
      "***\n",
      "1253318686896607233\n",
      "***\n",
      "1253318726461452291\n",
      "***\n",
      "1253319146994950144\n",
      "***\n",
      "1253319512163708930\n",
      "***\n",
      "1253319701473587209\n",
      "***\n",
      "1253319739599773698\n",
      "***\n",
      "1253319955166015490\n",
      "***\n",
      "1253319959754637314\n",
      "***\n",
      "1253322991082991618\n",
      "***\n",
      "1253323112134750210\n",
      "***\n",
      "1253320464077750277\n",
      "***\n",
      "1253323697831571457\n",
      "***\n",
      "1253323872020992002\n",
      "***\n",
      "1253324361370460167\n",
      "***\n",
      "1253324699355889665\n",
      "***\n",
      "1253321382827487232\n",
      "***\n",
      "1253324961306963969\n",
      "***\n",
      "1253325149182410753\n",
      "***\n",
      "1253325392275894273\n",
      "***\n",
      "1253325567887241222\n",
      "***\n",
      "1253326342860374016\n",
      "***\n",
      "1253326355346763778\n",
      "***\n",
      "1253326360900038657\n",
      "***\n",
      "1253326798735020033\n",
      "***\n",
      "1253326815579402242\n",
      "***\n",
      "1253326835179380736\n",
      "***\n",
      "1253326900526632966\n",
      "***\n",
      "1253322991082991618\n",
      "***\n",
      "1253323112134750210\n",
      "***\n",
      "1253327404811997185\n",
      "***\n",
      "1253327624463544323\n",
      "***\n",
      "1253327636652146689\n",
      "***\n",
      "1253327700653043712\n",
      "***\n",
      "1253327708731269126\n",
      "***\n",
      "1253327724665430023\n",
      "***\n",
      "1253323697831571457\n",
      "***\n",
      "1253327838272385024\n",
      "***\n",
      "1253327937371160579\n",
      "***\n",
      "1253323872020992002\n",
      "***\n",
      "1253324361370460167\n",
      "***\n",
      "1253328246654943232\n",
      "***\n",
      "1253328446106636288\n",
      "***\n",
      "1253324699355889665\n",
      "***\n",
      "1253328716798648326\n",
      "***\n",
      "1253324961306963969\n",
      "***\n",
      "1253325149182410753\n",
      "***\n",
      "1253325392275894273\n",
      "***\n",
      "1253325567887241222\n",
      "***\n",
      "1253329327510310913\n",
      "***\n",
      "1253329674874130432\n",
      "***\n",
      "1253329974435565569\n",
      "***\n",
      "1253330017062227975\n",
      "***\n",
      "1253326342860374016\n",
      "***\n",
      "1253326355346763778\n",
      "***\n",
      "1253326360900038657\n",
      "***\n",
      "1253326798735020033\n",
      "***\n",
      "1253326815579402242\n",
      "***\n",
      "1253326835179380736\n",
      "***\n",
      "1253330834603405313\n",
      "***\n",
      "1253327404811997185\n",
      "***\n",
      "1253327624463544323\n",
      "***\n",
      "1253327636652146689\n",
      "***\n",
      "1253327700653043712\n",
      "***\n",
      "1253327708731269126\n",
      "***\n",
      "1253327724665430023\n",
      "***\n",
      "1253327838272385024\n",
      "***\n",
      "1253327937371160579\n",
      "***\n",
      "1253331673409699840\n",
      "***\n",
      "1253331759921459201\n",
      "***\n",
      "1253331798253113349\n",
      "***\n",
      "1253332128311291904\n",
      "***\n",
      "1253332270477242369\n",
      "***\n",
      "1253328246654943232\n",
      "***\n",
      "1253328446106636288\n",
      "***\n",
      "1253332370385539075\n",
      "***\n",
      "1253332588522950657\n",
      "***\n",
      "1253332684496986115\n",
      "***\n",
      "1253328716798648326\n",
      "***\n",
      "1253333066551947265\n",
      "***\n",
      "1253329327510310913\n",
      "***\n",
      "1253333105114378242\n",
      "***\n",
      "1253329674874130432\n",
      "***\n",
      "1253333425710174208\n",
      "***\n",
      "1253329974435565569\n",
      "***\n",
      "1253330017062227975\n",
      "***\n",
      "1253333970718089219\n",
      "***\n",
      "1253334573712203776\n",
      "***\n",
      "1253334909000675329\n",
      "***\n",
      "1253335286550945793\n",
      "***\n",
      "1253331673409699840\n",
      "***\n",
      "1253331759921459201\n",
      "***\n",
      "1253331798253113349\n",
      "***\n",
      "1253335467048579076\n",
      "***\n",
      "1253332128311291904\n",
      "***\n",
      "1253332270477242369\n",
      "***\n",
      "1253332370385539075\n",
      "***\n",
      "1253332588522950657\n",
      "***\n",
      "1253336269528023042\n",
      "***\n",
      "1253332684496986115\n",
      "***\n",
      "1253336562600775684\n",
      "***\n",
      "1253333066551947265\n",
      "***\n",
      "1253333105114378242\n",
      "***\n",
      "1253337426304458761\n",
      "***\n",
      "1253333425710174208\n",
      "***\n",
      "1253337838533308417\n",
      "***\n",
      "1253333970718089219\n",
      "***\n",
      "1253338008612335618\n",
      "***\n",
      "1253338235675111425\n",
      "***\n",
      "1253334573712203776\n",
      "***\n",
      "1253334909000675329\n",
      "***\n",
      "1253339125819641864\n",
      "***\n",
      "1253339144283013124\n",
      "***\n",
      "1253335286550945793\n",
      "***\n",
      "1253335467048579076\n",
      "***\n",
      "1253336269528023042\n",
      "***\n",
      "1253336562600775684\n",
      "***\n",
      "1253337426304458761\n",
      "***\n",
      "1253337838533308417\n",
      "***\n",
      "1253338008612335618\n",
      "***\n",
      "1253338235675111425\n",
      "***\n",
      "1253339125819641864\n",
      "***\n",
      "1253339144283013124\n",
      "***\n"
     ]
    }
   ],
   "source": [
    "for r in results:\n",
    "    print(r['id'] + \"\\n***\")"
   ]
  },
  {
   "cell_type": "code",
   "execution_count": null,
   "metadata": {},
   "outputs": [],
   "source": []
  }
 ],
 "metadata": {
  "kernelspec": {
   "display_name": "Python 3",
   "language": "python",
   "name": "python3"
  },
  "language_info": {
   "codemirror_mode": {
    "name": "ipython",
    "version": 3
   },
   "file_extension": ".py",
   "mimetype": "text/x-python",
   "name": "python",
   "nbconvert_exporter": "python",
   "pygments_lexer": "ipython3",
   "version": "3.6.8"
  }
 },
 "nbformat": 4,
 "nbformat_minor": 4
}

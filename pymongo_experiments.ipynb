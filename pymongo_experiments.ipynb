{
 "cells": [
  {
   "cell_type": "code",
   "execution_count": 1,
   "metadata": {},
   "outputs": [],
   "source": [
    "import numpy as np\n",
    "import pandas as pd\n",
    "import sys\n",
    "\n",
    "# tweepy\n",
    "from tweepy.streaming import StreamListener\n",
    "from tweepy import OAuthHandler\n",
    "from tweepy import Stream\n",
    "\n",
    "# pymongo\n",
    "import config\n",
    "import ppp\n",
    "import pymongo\n",
    "from pymongo import MongoClient\n",
    "import dnspython\n",
    "import urllib.parse\n",
    "import regex\n",
    "import re"
   ]
  },
  {
   "cell_type": "code",
   "execution_count": 2,
   "metadata": {},
   "outputs": [],
   "source": [
    "# Twitter API\n",
    "access_token = config.access_token\n",
    "access_token_secret = config.access_token_secret\n",
    "consumer_key = config.consumer_key\n",
    "consumer_secret = config.consumer_secret"
   ]
  },
  {
   "cell_type": "markdown",
   "metadata": {},
   "source": [
    "## SQLITE"
   ]
  },
  {
   "cell_type": "code",
   "execution_count": 6,
   "metadata": {},
   "outputs": [],
   "source": [
    "import sqlite3"
   ]
  },
  {
   "cell_type": "code",
   "execution_count": 7,
   "metadata": {},
   "outputs": [],
   "source": [
    "conn = sqlite3.connect('test.db')\n",
    "c = conn.cursor()"
   ]
  },
  {
   "cell_type": "code",
   "execution_count": 13,
   "metadata": {},
   "outputs": [
    {
     "ename": "OperationalError",
     "evalue": "table coffee already exists",
     "output_type": "error",
     "traceback": [
      "\u001b[0;31m---------------------------------------------------------------------------\u001b[0m",
      "\u001b[0;31mOperationalError\u001b[0m                          Traceback (most recent call last)",
      "\u001b[0;32m<ipython-input-13-226ed18b2709>\u001b[0m in \u001b[0;36m<module>\u001b[0;34m\u001b[0m\n\u001b[0;32m----> 1\u001b[0;31m \u001b[0mc\u001b[0m\u001b[0;34m.\u001b[0m\u001b[0mexecute\u001b[0m\u001b[0;34m(\u001b[0m\u001b[0;34m\"create table coffee (main_id varchar(40), id varchar(20), name varchar(50), followers integer null, following integer null)\"\u001b[0m\u001b[0;34m)\u001b[0m\u001b[0;34m\u001b[0m\u001b[0;34m\u001b[0m\u001b[0m\n\u001b[0m",
      "\u001b[0;31mOperationalError\u001b[0m: table coffee already exists"
     ]
    }
   ],
   "source": [
    "c.execute(\"create table coffee (main_id varchar(40), id varchar(20), name varchar(50), followers integer null, following integer null)\")"
   ]
  },
  {
   "cell_type": "markdown",
   "metadata": {},
   "source": [
    "## JSON to SQLite"
   ]
  },
  {
   "cell_type": "code",
   "execution_count": 14,
   "metadata": {},
   "outputs": [],
   "source": [
    "import json\n",
    "with open(\"data/test-out (2)\", \"r\") as f1:\n",
    "    for line in f1:\n",
    "        try:\n",
    "            data = json.loads(line)\n",
    "            c.execute(\"insert into coffee values (?, ?, ?, ?, ?)\",\n",
    "                      [data['id_str'], data['user']['id'], data['user']['screen_name'], data['user']['followers_count'], data['user']['friends_count']])\n",
    "        except:\n",
    "            continue"
   ]
  },
  {
   "cell_type": "code",
   "execution_count": 15,
   "metadata": {},
   "outputs": [],
   "source": [
    "cursor = conn.execute(\"select * from coffee where main_id == '1253319701473587209'\")\n",
    "rows = cursor.fetchall()"
   ]
  },
  {
   "cell_type": "code",
   "execution_count": 16,
   "metadata": {},
   "outputs": [
    {
     "name": "stdout",
     "output_type": "stream",
     "text": [
      "('1253319701473587209', '1227184861850394626', 'kristiavalenzu1', 85, 65)\n",
      "('1253319701473587209', '1227184861850394626', 'kristiavalenzu1', 85, 65)\n"
     ]
    }
   ],
   "source": [
    "for row in rows:\n",
    "    print(row)"
   ]
  },
  {
   "cell_type": "markdown",
   "metadata": {},
   "source": [
    "## JSON to MongoDB"
   ]
  },
  {
   "cell_type": "code",
   "execution_count": 3,
   "metadata": {},
   "outputs": [],
   "source": [
    "# setting mongodb config\n",
    "username = urllib.parse.quote_plus(ppp.username)\n",
    "password = urllib.parse.quote_plus(ppp.password)\n",
    "cluster = MongoClient('mongodb+srv://%s:%s@cluster0-tlu5n.mongodb.net/test?retryWrites=true&w=majority' % (username, password))"
   ]
  },
  {
   "cell_type": "code",
   "execution_count": 4,
   "metadata": {},
   "outputs": [],
   "source": [
    "# defining cluster and collection\n",
    "db = cluster[\"coffee_twitter\"]\n",
    "collection = db[\"tweets\"]"
   ]
  },
  {
   "cell_type": "code",
   "execution_count": 11,
   "metadata": {},
   "outputs": [],
   "source": [
    "# reading json and pushing tweet contents to MongoDB database\n",
    "with open(\"data/test-out (2)\", \"r\") as f1:\n",
    "    for line in f1:\n",
    "        try:\n",
    "            data = json.loads(line)\n",
    "            idx = data['id_str']\n",
    "            full_tweet = data['retweeted_status']['extended_tweet']['full_text']\n",
    "            lang = data['lang']\n",
    "            retweeted = data['retweeted']\n",
    "            reply_count = data['reply_count']\n",
    "            retweet_count = data['retweet_count']\n",
    "            \n",
    "            post = {\"id\": idx, \"full_tweet\": full_tweet, \"lang\": lang, \"retweeted\": retweeted, \"reply_count\": reply_count,\n",
    "                    \"retweet_count\": retweet_count}\n",
    "            \n",
    "            collection.insert_one(post)\n",
    "        except:\n",
    "            continue"
   ]
  },
  {
   "cell_type": "markdown",
   "metadata": {},
   "source": [
    "## Find Information"
   ]
  },
  {
   "cell_type": "code",
   "execution_count": 6,
   "metadata": {},
   "outputs": [
    {
     "name": "stdout",
     "output_type": "stream",
     "text": [
      "<pymongo.cursor.Cursor object at 0x7f125d3b2550>\n"
     ]
    }
   ],
   "source": [
    "# query\n",
    "results = collection.find({\"id\": \"1253317430220337152\"})\n",
    "print(results)"
   ]
  },
  {
   "cell_type": "code",
   "execution_count": 7,
   "metadata": {},
   "outputs": [
    {
     "name": "stdout",
     "output_type": "stream",
     "text": [
      "Man, this quarantine has changed a lot.  My eating is better, my alcohol intake is at all-time lows as of a week or so ago (see: none).  BUT... my black coffee intake is at an all-time high.\n",
      "***\n"
     ]
    }
   ],
   "source": [
    "for r in results:\n",
    "    print(r['full_tweet'] + \"\\n***\")"
   ]
  },
  {
   "cell_type": "code",
   "execution_count": 50,
   "metadata": {},
   "outputs": [
    {
     "name": "stdout",
     "output_type": "stream",
     "text": [
      "<pymongo.cursor.Cursor object at 0x7f125d337668>\n"
     ]
    }
   ],
   "source": [
    "# query text\n",
    "results = collection.find( { \"$text\": { \"$search\": \"starbucks\" } } )\n",
    "print(results)"
   ]
  },
  {
   "cell_type": "code",
   "execution_count": 46,
   "metadata": {},
   "outputs": [
    {
     "name": "stdout",
     "output_type": "stream",
     "text": [
      "<pymongo.cursor.Cursor object at 0x7f125d337588>\n"
     ]
    }
   ],
   "source": [
    "# query exact phrase\n",
    "results = collection.find( { \"$text\": { \"$search\": \"\\\"black rifle\\\"\" } } )\n",
    "print(results)"
   ]
  },
  {
   "cell_type": "code",
   "execution_count": 52,
   "metadata": {},
   "outputs": [
    {
     "name": "stdout",
     "output_type": "stream",
     "text": [
      "<pymongo.cursor.Cursor object at 0x7f125d335128>\n"
     ]
    }
   ],
   "source": [
    "# query term exclusion\n",
    "results = collection.find( { \"$text\": { \"$search\": \"-black sugar\" } } )\n",
    "print(results)"
   ]
  },
  {
   "cell_type": "code",
   "execution_count": 137,
   "metadata": {},
   "outputs": [
    {
     "name": "stdout",
     "output_type": "stream",
     "text": [
      "<pymongo.cursor.Cursor object at 0x7fb970f3c518>\n"
     ]
    }
   ],
   "source": [
    "# query\n",
    "results = collection.find({\"lang\": \"fr\"})\n",
    "print(results)"
   ]
  },
  {
   "cell_type": "code",
   "execution_count": 139,
   "metadata": {},
   "outputs": [
    {
     "name": "stdout",
     "output_type": "stream",
     "text": [
      "•\"Je crois parfois que Dieu, en créant l'homme, a quelque peu surestimé ses capacités.\"\n",
      "•Oscar Wilde\n",
      "\n",
      "Le café est prêt\n",
      "***\n",
      "Retrouvez les @lumberjack dans leur émission Coffee Break qui commence à 15H par une session feedback où vous ne devez pas hésiter à leur envoyer vos démos : feedback@coffeebreak.bar 🤩 \n",
      "Puis retrouvez en live sur notre page FB leurs interviews de DJs et DJanes ! 🤫❤️ https://t.co/nCroE2n4cB\n",
      "***\n",
      "Retrouvez les @lumberjack dans leur émission Coffee Break qui commence à 15H par une session feedback où vous ne devez pas hésiter à leur envoyer vos démos : feedback@coffeebreak.bar 🤩 \n",
      "Puis retrouvez en live sur notre page FB leurs interviews de DJs et DJanes ! 🤫❤️ https://t.co/nCroE2n4cB\n",
      "***\n"
     ]
    }
   ],
   "source": [
    "for r in results:\n",
    "    print(r['full_tweet'] + \"\\n***\")"
   ]
  },
  {
   "cell_type": "code",
   "execution_count": 74,
   "metadata": {},
   "outputs": [
    {
     "name": "stdout",
     "output_type": "stream",
     "text": [
      "<pymongo.cursor.Cursor object at 0x7f1254304438>\n"
     ]
    }
   ],
   "source": [
    "# extract start with \"hey\" regex\n",
    "results = collection.find( { \"full_tweet\": { \"$regex\": \"^hey\" } } )\n",
    "print(results)"
   ]
  },
  {
   "cell_type": "code",
   "execution_count": 75,
   "metadata": {},
   "outputs": [
    {
     "name": "stdout",
     "output_type": "stream",
     "text": [
      "hey guys, so if you add milk/creamer/sugar/etc to coffee do they count as condiments because you add them to cover to give it flavour? if so, is coffee also a condiment because you add it to water to give it flavour?\n",
      "hey guys, so if you add milk/creamer/sugar/etc to coffee do they count as condiments because you add them to cover to give it flavour? if so, is coffee also a condiment because you add it to water to give it flavour?\n",
      "hey guys, so if you add milk/creamer/sugar/etc to coffee do they count as condiments because you add them to cover to give it flavour? if so, is coffee also a condiment because you add it to water to give it flavour?\n",
      "hey guys, so if you add milk/creamer/sugar/etc to coffee do they count as condiments because you add them to cover to give it flavour? if so, is coffee also a condiment because you add it to water to give it flavour?\n"
     ]
    }
   ],
   "source": [
    "for r in results:\n",
    "    print(r['full_tweet'])"
   ]
  },
  {
   "cell_type": "code",
   "execution_count": 149,
   "metadata": {},
   "outputs": [],
   "source": [
    "def find_tweet_hashtags(hasht = None, user = None, find = 'hash'):\n",
    "    if hasht is not None:\n",
    "        look = \"((#\" + hasht + \"))\"\n",
    "    if user is not None:\n",
    "        look = \"((@\" + user + \"))\"\n",
    "    results = collection.find( { \"full_tweet\": { \"$regex\": look } } )\n",
    "    \n",
    "    for r in results:\n",
    "        hashtag = r['full_tweet']\n",
    "        if find == 'hash':\n",
    "            x = re.findall(r\"(#\\w+)\", hashtag)\n",
    "        if find == 'user':\n",
    "            x = re.findall(r\"(@\\w+)\", hashtag)\n",
    "        if find == 'full_tweet':\n",
    "            x = hashtag\n",
    "        print(x)\n"
   ]
  },
  {
   "cell_type": "code",
   "execution_count": 150,
   "metadata": {},
   "outputs": [
    {
     "name": "stdout",
     "output_type": "stream",
     "text": [
      "['#dalgonacoffeechallenge', '#Dalgonacoffee', '#FluffyCoffee', '#coffee', '#whippedcoffee', '#Louisiana', '#Acadiana', '#Lafayette']\n",
      "['#dalgonacoffeechallenge', '#Dalgonacoffee', '#FluffyCoffee', '#coffee', '#whippedcoffee', '#Louisiana', '#Acadiana', '#Lafayette']\n",
      "['#dalgonacoffeechallenge', '#Dalgonacoffee', '#FluffyCoffee', '#coffee', '#whippedcoffee', '#Louisiana', '#Acadiana', '#Lafayette']\n",
      "['#dalgonacoffeechallenge', '#Dalgonacoffee', '#FluffyCoffee', '#coffee', '#whippedcoffee', '#Louisiana', '#Acadiana', '#Lafayette']\n"
     ]
    }
   ],
   "source": [
    "find_tweet_hashtags(hasht = \"dalgona\", find = 'hash')"
   ]
  },
  {
   "cell_type": "code",
   "execution_count": 151,
   "metadata": {},
   "outputs": [
    {
     "name": "stdout",
     "output_type": "stream",
     "text": [
      "['@lumberjack', '@coffeebreak']\n",
      "['@lumberjack', '@coffeebreak']\n"
     ]
    }
   ],
   "source": [
    "find_tweet_hashtags(user = \"coffee\", find = 'user')"
   ]
  },
  {
   "cell_type": "code",
   "execution_count": 152,
   "metadata": {
    "collapsed": true,
    "jupyter": {
     "outputs_hidden": true
    }
   },
   "outputs": [
    {
     "name": "stdout",
     "output_type": "stream",
     "text": [
      "What do you believe to be the number one requirement to be a successful developer? 🤔\n",
      "\n",
      "i am doubt full about the answer being mostly coffee🙄😂☕\n",
      "\n",
      "#100DaysOfCode #html #IoT #CodeNewbie #javascript #react #301DaysOfCode #GameDev\n",
      "What do you believe to be the number one requirement to be a successful developer? 🤔\n",
      "\n",
      "i am doubt full about the answer being mostly coffee🙄😂☕\n",
      "\n",
      "#100DaysOfCode #html #IoT #CodeNewbie #javascript #react #301DaysOfCode #GameDev\n",
      "What do you believe to be the number one requirement to be a successful developer? 🤔\n",
      "\n",
      "i am doubt full about the answer being mostly coffee🙄😂☕\n",
      "\n",
      "#100DaysOfCode #html #IoT #CodeNewbie #javascript #react #301DaysOfCode #GameDev\n",
      "What do you believe to be the number one requirement to be a successful developer? 🤔\n",
      "\n",
      "i am doubt full about the answer being mostly coffee🙄😂☕\n",
      "\n",
      "#100DaysOfCode #html #IoT #CodeNewbie #javascript #react #301DaysOfCode #GameDev\n",
      "What do you believe to be the number one requirement to be a successful developer? 🤔\n",
      "\n",
      "i am doubt full about the answer being mostly coffee🙄😂☕\n",
      "\n",
      "#100DaysOfCode #html #IoT #CodeNewbie #javascript #react #301DaysOfCode #GameDev\n",
      "What do you believe to be the number one requirement to be a successful developer? 🤔\n",
      "\n",
      "i am doubt full about the answer being mostly coffee🙄😂☕\n",
      "\n",
      "#100DaysOfCode #html #IoT #CodeNewbie #javascript #react #301DaysOfCode #GameDev\n",
      "What do you believe to be the number one requirement to be a successful developer? 🤔\n",
      "\n",
      "i am doubt full about the answer being mostly coffee🙄😂☕\n",
      "\n",
      "#100DaysOfCode #html #IoT #CodeNewbie #javascript #react #301DaysOfCode #GameDev\n",
      "What do you believe to be the number one requirement to be a successful developer? 🤔\n",
      "\n",
      "i am doubt full about the answer being mostly coffee🙄😂☕\n",
      "\n",
      "#100DaysOfCode #html #IoT #CodeNewbie #javascript #react #301DaysOfCode #GameDev\n",
      "What do you believe to be the number one requirement to be a successful developer? 🤔\n",
      "\n",
      "i am doubt full about the answer being mostly coffee🙄😂☕\n",
      "\n",
      "#100DaysOfCode #html #IoT #CodeNewbie #javascript #react #301DaysOfCode #GameDev\n",
      "What do you believe to be the number one requirement to be a successful developer? 🤔\n",
      "\n",
      "i am doubt full about the answer being mostly coffee🙄😂☕\n",
      "\n",
      "#100DaysOfCode #html #IoT #CodeNewbie #javascript #react #301DaysOfCode #GameDev\n",
      "What do you believe to be the number one requirement to be a successful developer? 🤔\n",
      "\n",
      "i am doubt full about the answer being mostly coffee🙄😂☕\n",
      "\n",
      "#100DaysOfCode #html #IoT #CodeNewbie #javascript #react #301DaysOfCode #GameDev\n",
      "What do you believe to be the number one requirement to be a successful developer? 🤔\n",
      "\n",
      "i am doubt full about the answer being mostly coffee🙄😂☕\n",
      "\n",
      "#100DaysOfCode #html #IoT #CodeNewbie #javascript #react #301DaysOfCode #GameDev\n",
      "What do you believe to be the number one requirement to be a successful developer? 🤔\n",
      "\n",
      "i am doubt full about the answer being mostly coffee🙄😂☕\n",
      "\n",
      "#100DaysOfCode #html #IoT #CodeNewbie #javascript #react #301DaysOfCode #GameDev\n",
      "What do you believe to be the number one requirement to be a successful developer? 🤔\n",
      "\n",
      "i am doubt full about the answer being mostly coffee🙄😂☕\n",
      "\n",
      "#100DaysOfCode #html #IoT #CodeNewbie #javascript #react #301DaysOfCode #GameDev\n",
      "What do you believe to be the number one requirement to be a successful developer? 🤔\n",
      "\n",
      "i am doubt full about the answer being mostly coffee🙄😂☕\n",
      "\n",
      "#100DaysOfCode #html #IoT #CodeNewbie #javascript #react #301DaysOfCode #GameDev\n",
      "What do you believe to be the number one requirement to be a successful developer? 🤔\n",
      "\n",
      "i am doubt full about the answer being mostly coffee🙄😂☕\n",
      "\n",
      "#100DaysOfCode #html #IoT #CodeNewbie #javascript #react #301DaysOfCode #GameDev\n",
      "What do you believe to be the number one requirement to be a successful developer? 🤔\n",
      "\n",
      "i am doubt full about the answer being mostly coffee🙄😂☕\n",
      "\n",
      "#100DaysOfCode #html #IoT #CodeNewbie #javascript #react #301DaysOfCode #GameDev\n",
      "What do you believe to be the number one requirement to be a successful developer? 🤔\n",
      "\n",
      "i am doubt full about the answer being mostly coffee🙄😂☕\n",
      "\n",
      "#100DaysOfCode #html #IoT #CodeNewbie #javascript #react #301DaysOfCode #GameDev\n"
     ]
    }
   ],
   "source": [
    "find_tweet_hashtags(hasht = \"java\", find = 'full_tweet')"
   ]
  },
  {
   "cell_type": "markdown",
   "metadata": {},
   "source": [
    "### Mongo + SQLite function"
   ]
  },
  {
   "cell_type": "code",
   "execution_count": 206,
   "metadata": {},
   "outputs": [],
   "source": [
    "def find_by_word(word = None, tweet = None):\n",
    "\n",
    "    results = collection.find({ \"$text\": { \"$search\": word } })\n",
    "    \n",
    "    idx = []\n",
    "    lang = []\n",
    "    user_id = []\n",
    "    full_text = []\n",
    "    for r in results:\n",
    "        idx.append(r['id'])\n",
    "        lang.append(r['lang'])\n",
    "        full_text.append(r['full_tweet'])\n",
    "        \n",
    "        #sql\n",
    "        cursor = conn.execute(\"select name from coffee where main_id == {}\".format(r['id']))\n",
    "        rows = cursor.fetchall()\n",
    "        \n",
    "        for row in rows:\n",
    "            user_id.append(row)\n",
    "    \n",
    "    for i, val in enumerate((idx)):\n",
    "        print(idx[i], \":::\", lang[i], \":::\", user_id[i])\n",
    "        if tweet is not None:\n",
    "            print(\":::\", full_text[i], \"***\\n\")"
   ]
  },
  {
   "cell_type": "code",
   "execution_count": 207,
   "metadata": {},
   "outputs": [
    {
     "name": "stdout",
     "output_type": "stream",
     "text": [
      "1253338334488756224 ::: in ::: ('Hanniballad',)\n",
      "1253337426048585729 ::: in ::: ('Hanniballad',)\n",
      "1253336524176756738 ::: in ::: ('Mbusih',)\n",
      "1253336073985380357 ::: in ::: ('Mbusih',)\n",
      "1253335602537193474 ::: in ::: ('florswaggle',)\n",
      "1253338334488756224 ::: in ::: ('florswaggle',)\n",
      "1253337426048585729 ::: in ::: ('Ddaaante',)\n",
      "1253336524176756738 ::: in ::: ('Ddaaante',)\n",
      "1253336073985380357 ::: in ::: ('AishaWanjiku_',)\n",
      "1253335602537193474 ::: in ::: ('AishaWanjiku_',)\n",
      "1253327849966104576 ::: in ::: ('Hanniballad',)\n",
      "1253327849966104576 ::: in ::: ('Hanniballad',)\n"
     ]
    }
   ],
   "source": [
    "find_by_word(word = 'chai')"
   ]
  },
  {
   "cell_type": "code",
   "execution_count": 208,
   "metadata": {},
   "outputs": [
    {
     "name": "stdout",
     "output_type": "stream",
     "text": [
      "1253330996243558407 ::: en ::: ('bigevilbeard',)\n",
      "::: How about some java with your java this morning? ☕️ Learn to code, get inspired and connect with #softwaredevelopers through @CiscoDevNet: https://t.co/3CAKsrR64Y #CiscoCert https://t.co/oiMoKQcLut ***\n",
      "\n",
      "1253330996243558407 ::: en ::: ('bigevilbeard',)\n",
      "::: How about some java with your java this morning? ☕️ Learn to code, get inspired and connect with #softwaredevelopers through @CiscoDevNet: https://t.co/3CAKsrR64Y #CiscoCert https://t.co/oiMoKQcLut ***\n",
      "\n",
      "1253317504069500929 ::: en ::: ('bigevilbeard',)\n",
      "::: UPCOMING \"BEERS\"\n",
      "FRI: Flashlight Mango Hard Seltzer\n",
      "MON: Flashlight Key Lime Hard Seltzer w/ Lemon &amp; Coconut\n",
      "Next FRI? Terra Java Coffee Baltic Porter\n",
      "2 weeks out: Scioto Coast Double IPA\n",
      "In the Tank: Southern Terminus Mexican Lager\n",
      "In the Tank: Beta Flash NE IPA (Batch #23) https://t.co/ysHztgMocB ***\n",
      "\n"
     ]
    }
   ],
   "source": [
    "find_by_word(word = 'java', tweet = True)"
   ]
  },
  {
   "cell_type": "code",
   "execution_count": 195,
   "metadata": {},
   "outputs": [
    {
     "name": "stdout",
     "output_type": "stream",
     "text": [
      "0.8250000000000001 \n",
      "\n",
      "0.8250000000000001 \n",
      "\n",
      "0.5108695652173914 \n",
      "\n"
     ]
    }
   ],
   "source": [
    "# query text\n",
    "results = collection.find( { \"$text\": { \"$search\": \"java\" } }, {\"score\": {\"$meta\": \"textScore\"} } ).sort([('score', {\"$meta\": 'textScore'})])\n",
    "for r in results:\n",
    "    print(r['score'], \"\\n\")"
   ]
  },
  {
   "cell_type": "code",
   "execution_count": 186,
   "metadata": {},
   "outputs": [],
   "source": [
    "def info_by_relevancy(text = None, sort_by_score = None):\n",
    "\n",
    "\n",
    "    results = collection.find({ \"$text\": { \"$search\": text } }, {\"score\": {\"$meta\": \"textScore\"} }).sort([('score', {\"$meta\": 'textScore'})])\n",
    "    \n",
    "    idx = []\n",
    "    lang = []\n",
    "    user_id = []\n",
    "    full_text = []\n",
    "    score = []\n",
    "    for r in results:\n",
    "        idx.append(r['id'])\n",
    "        lang.append(r['lang'])\n",
    "        full_text.append(r['full_tweet'])\n",
    "        score.append(r['score'])\n",
    "        \n",
    "        #sql\n",
    "        cursor = conn.execute(\"select name from coffee where main_id == {}\".format(r['id']))\n",
    "        rows = cursor.fetchall()\n",
    "        \n",
    "        for row in rows:\n",
    "            user_id.append(row)\n",
    "    \n",
    "    user_id = list(set(user_id))\n",
    "    full_text = list(set(full_text))\n",
    "    score = list(set(score))\n",
    "    \n",
    "    for i, val in enumerate(user_id):\n",
    "        print(\"User --> \", user_id[i], \"\\nTweet --> \", full_text[i], \"\\nScore -->\" , score[i], \"\\n\\n\")"
   ]
  },
  {
   "cell_type": "code",
   "execution_count": 187,
   "metadata": {},
   "outputs": [
    {
     "name": "stdout",
     "output_type": "stream",
     "text": [
      "User -->  ('drzewieckinbh',) \n",
      "Tweet -->  By @hooks_ciara  Café Busy Bean has signed a contract with the City to move into the former Dunkin Donuts location next to the police station at 135 Main St.\n",
      "\n",
      " https://t.co/EtRVa0o5cC \n",
      "Score --> 0.5333333333333333 \n",
      "\n",
      "\n",
      "User -->  ('MissyJo79',) \n",
      "Tweet -->  gotta give the people what they want.\n",
      "here is the official Dunkin coffee flavor ranking:\n",
      "1) peppermint mocha\n",
      "2) banana split\n",
      "3) thin mint\n",
      "4) blueberry mocha (trust me)\n",
      "5) cinnamon mocha\n",
      "6) caramel mocha\n",
      "7) pumpkin\n",
      "8) irish creme \n",
      "9) mint chocolate chip\n",
      "10) oreo \n",
      "Score --> 0.5227272727272727 \n",
      "\n",
      "\n",
      "User -->  ('TBen112',) \n",
      "Tweet -->  RETWEET &amp; WIN!! - COFFEE WEDNESDAY!\n",
      "\n",
      "RETWEET + LIKE THIS POST &amp; BE ENTERED TO WIN 1 of 2 $25 Tim Hortons or Dunkin Donuts Custom Jimmy Freight Gift Cards!\n",
      "\n",
      "*\n",
      "JIMMY FREIGHT- BOOK FULL &amp; CLOSED.  For Limited Syndicate Shares call @WinbakFarm  905-838-2145 https://t.co/cIxGf50fK5 \n",
      "Score --> 0.5128205128205128 \n",
      "\n",
      "\n",
      "User -->  ('Rodneyd11196564',) \n",
      "Tweet -->  @GodFamilyJesus Dunkin. I'm boycotting Starbuck's because they recently invested $130 million to build  a coffee roasting plant in Kunshan China.\n",
      "\n",
      "#MadeInChina \n",
      "Score --> 0.5208333333333334 \n",
      "\n",
      "\n",
      "User -->  ('kelseykruk',) \n",
      "Tweet -->  Let’s raise a cup to all the employees around the country changing the way they work. Like this Dunkin’ crew in Dickson City, PA who went from making coffee to making masks for a local nursing home. \n",
      "Score --> 0.5121951219512195 \n",
      "\n",
      "\n"
     ]
    }
   ],
   "source": [
    "info_by_relevancy(text = 'dunkin', sort_by_score = True)"
   ]
  },
  {
   "cell_type": "code",
   "execution_count": 144,
   "metadata": {},
   "outputs": [],
   "source": [
    "def find_user_lang(lang = None):\n",
    "    # query\n",
    "    results = collection.find({\"lang\": lang})\n",
    "    \n",
    "    idx = []\n",
    "    full_tweet = []\n",
    "    user_id = []\n",
    "    for r in results:\n",
    "        full_tweet.append(r['full_tweet'])\n",
    "        idx.append(r['id'])\n",
    "        \n",
    "        #sql\n",
    "        cursor = conn.execute(\"select name from coffee where main_id == {}\".format(r['id']))\n",
    "        rows = cursor.fetchall()\n",
    "        \n",
    "        for row in rows:\n",
    "            user_id.append(row)\n",
    "    \n",
    "    user_id = list(set(user_id))\n",
    "    full_tweet = list(set(full_tweet))\n",
    "    \n",
    "    for i, val in enumerate(user_id):\n",
    "        print(user_id[i], \"->  \", full_tweet[i])"
   ]
  },
  {
   "cell_type": "code",
   "execution_count": 145,
   "metadata": {},
   "outputs": [
    {
     "name": "stdout",
     "output_type": "stream",
     "text": [
      "('Becike_Claude',) ->   •\"Je crois parfois que Dieu, en créant l'homme, a quelque peu surestimé ses capacités.\"\n",
      "•Oscar Wilde\n",
      "\n",
      "Le café est prêt\n",
      "('Remaille91',) ->   Retrouvez les @lumberjack dans leur émission Coffee Break qui commence à 15H par une session feedback où vous ne devez pas hésiter à leur envoyer vos démos : feedback@coffeebreak.bar 🤩 \n",
      "Puis retrouvez en live sur notre page FB leurs interviews de DJs et DJanes ! 🤫❤️ https://t.co/nCroE2n4cB\n"
     ]
    }
   ],
   "source": [
    "find_user_lang(lang = 'fr')"
   ]
  },
  {
   "cell_type": "markdown",
   "metadata": {},
   "source": [
    "## find df"
   ]
  },
  {
   "cell_type": "code",
   "execution_count": 202,
   "metadata": {},
   "outputs": [],
   "source": [
    "def find_by_word_df(word = None, tweet = None):\n",
    "\n",
    "    results = collection.find({ \"$text\": { \"$search\": word } }, {\"score\": {\"$meta\": \"textScore\"} })\n",
    "    \n",
    "    idx = []\n",
    "    lang = []\n",
    "    user_id = []\n",
    "    full_text = []\n",
    "    user_tweet = []\n",
    "    followers = []\n",
    "    following = []\n",
    "    score = []\n",
    "    \n",
    "    for r in results:\n",
    "        idx.append(r['id'])\n",
    "        lang.append(r['lang'])\n",
    "        full_text.append(r['full_tweet'])\n",
    "        score.append(r['score'])\n",
    "        #sql\n",
    "        cursor = conn.execute(\"select name, followers, following from coffee where main_id == {}\".format(r['id']))\n",
    "        rows = cursor.fetchall()\n",
    "        \n",
    "        for row in rows:\n",
    "            user_id.append(row[0])\n",
    "            followers.append(row[1])\n",
    "            following.append(row[2])\n",
    "    \n",
    "    user_id = list(set(user_id))\n",
    "    full_text = list(set(full_text))\n",
    "    followers = list(set(followers))\n",
    "    following = list(set(following))\n",
    "    score = list(set(score))\n",
    "    \n",
    "    for i, val in enumerate(user_id):\n",
    "        len_tweet = (len(full_text[i].split(' ')))\n",
    "        user_tweet.append([user_id[i], followers[i], following[i], full_text[i],re.findall(r'(#\\w+)', full_text[i]),  \n",
    "                          re.findall(r'(@\\w+)', full_text[i]), len_tweet, score[i]])\n",
    "        \n",
    "#    user_tweet = pd.DataFrame({'user_id': user_id, 'tweet': full_text})\n",
    "    \n",
    "    return(pd.DataFrame(user_tweet, columns = ['user', 'followers', 'following', 'tweet', 'hashtags', 'mentions', \n",
    "                                               'len_tweet', 'relevancy_score']))\n",
    "    #return(set(user_id), set(full_text))"
   ]
  },
  {
   "cell_type": "code",
   "execution_count": 203,
   "metadata": {},
   "outputs": [],
   "source": [
    "x = find_by_word_df(word = 'dunkin')"
   ]
  },
  {
   "cell_type": "code",
   "execution_count": 204,
   "metadata": {},
   "outputs": [
    {
     "data": {
      "text/html": [
       "<div>\n",
       "<style scoped>\n",
       "    .dataframe tbody tr th:only-of-type {\n",
       "        vertical-align: middle;\n",
       "    }\n",
       "\n",
       "    .dataframe tbody tr th {\n",
       "        vertical-align: top;\n",
       "    }\n",
       "\n",
       "    .dataframe thead th {\n",
       "        text-align: right;\n",
       "    }\n",
       "</style>\n",
       "<table border=\"1\" class=\"dataframe\">\n",
       "  <thead>\n",
       "    <tr style=\"text-align: right;\">\n",
       "      <th></th>\n",
       "      <th>user</th>\n",
       "      <th>followers</th>\n",
       "      <th>following</th>\n",
       "      <th>tweet</th>\n",
       "      <th>hashtags</th>\n",
       "      <th>mentions</th>\n",
       "      <th>len_tweet</th>\n",
       "      <th>relevancy_score</th>\n",
       "    </tr>\n",
       "  </thead>\n",
       "  <tbody>\n",
       "    <tr>\n",
       "      <th>0</th>\n",
       "      <td>TBen112</td>\n",
       "      <td>32322</td>\n",
       "      <td>76</td>\n",
       "      <td>By @hooks_ciara  Café Busy Bean has signed a c...</td>\n",
       "      <td>[]</td>\n",
       "      <td>[@hooks_ciara]</td>\n",
       "      <td>31</td>\n",
       "      <td>0.533333</td>\n",
       "    </tr>\n",
       "    <tr>\n",
       "      <th>1</th>\n",
       "      <td>Rodneyd11196564</td>\n",
       "      <td>1351</td>\n",
       "      <td>789</td>\n",
       "      <td>RETWEET &amp;amp; WIN!! - COFFEE WEDNESDAY!\\n\\nRET...</td>\n",
       "      <td>[]</td>\n",
       "      <td>[@WinbakFarm]</td>\n",
       "      <td>44</td>\n",
       "      <td>0.512195</td>\n",
       "    </tr>\n",
       "    <tr>\n",
       "      <th>2</th>\n",
       "      <td>MissyJo79</td>\n",
       "      <td>170</td>\n",
       "      <td>4440</td>\n",
       "      <td>gotta give the people what they want.\\nhere is...</td>\n",
       "      <td>[]</td>\n",
       "      <td>[]</td>\n",
       "      <td>36</td>\n",
       "      <td>0.512821</td>\n",
       "    </tr>\n",
       "    <tr>\n",
       "      <th>3</th>\n",
       "      <td>kelseykruk</td>\n",
       "      <td>619</td>\n",
       "      <td>35517</td>\n",
       "      <td>@GodFamilyJesus Dunkin. I'm boycotting Starbuc...</td>\n",
       "      <td>[#MadeInChina]</td>\n",
       "      <td>[@GodFamilyJesus]</td>\n",
       "      <td>21</td>\n",
       "      <td>0.522727</td>\n",
       "    </tr>\n",
       "    <tr>\n",
       "      <th>4</th>\n",
       "      <td>drzewieckinbh</td>\n",
       "      <td>80</td>\n",
       "      <td>1214</td>\n",
       "      <td>Let’s raise a cup to all the employees around ...</td>\n",
       "      <td>[]</td>\n",
       "      <td>[]</td>\n",
       "      <td>36</td>\n",
       "      <td>0.520833</td>\n",
       "    </tr>\n",
       "  </tbody>\n",
       "</table>\n",
       "</div>"
      ],
      "text/plain": [
       "              user  followers  following  \\\n",
       "0          TBen112      32322         76   \n",
       "1  Rodneyd11196564       1351        789   \n",
       "2        MissyJo79        170       4440   \n",
       "3       kelseykruk        619      35517   \n",
       "4    drzewieckinbh         80       1214   \n",
       "\n",
       "                                               tweet        hashtags  \\\n",
       "0  By @hooks_ciara  Café Busy Bean has signed a c...              []   \n",
       "1  RETWEET &amp; WIN!! - COFFEE WEDNESDAY!\\n\\nRET...              []   \n",
       "2  gotta give the people what they want.\\nhere is...              []   \n",
       "3  @GodFamilyJesus Dunkin. I'm boycotting Starbuc...  [#MadeInChina]   \n",
       "4  Let’s raise a cup to all the employees around ...              []   \n",
       "\n",
       "            mentions  len_tweet  relevancy_score  \n",
       "0     [@hooks_ciara]         31         0.533333  \n",
       "1      [@WinbakFarm]         44         0.512195  \n",
       "2                 []         36         0.512821  \n",
       "3  [@GodFamilyJesus]         21         0.522727  \n",
       "4                 []         36         0.520833  "
      ]
     },
     "execution_count": 204,
     "metadata": {},
     "output_type": "execute_result"
    }
   ],
   "source": [
    "x"
   ]
  },
  {
   "cell_type": "code",
   "execution_count": 17,
   "metadata": {},
   "outputs": [],
   "source": [
    "cursor = conn.execute(\"select * from coffee where main_id == '1253319701473587209'\")\n",
    "rows = cursor.fetchall()"
   ]
  },
  {
   "cell_type": "code",
   "execution_count": 22,
   "metadata": {},
   "outputs": [
    {
     "name": "stdout",
     "output_type": "stream",
     "text": [
      "('1253319701473587209', '1227184861850394626', 'kristiavalenzu1', 85, 65)\n",
      "('1253319701473587209', '1227184861850394626', 'kristiavalenzu1', 85, 65)\n"
     ]
    }
   ],
   "source": [
    "for row in rows:\n",
    "    print(row)"
   ]
  },
  {
   "cell_type": "code",
   "execution_count": null,
   "metadata": {},
   "outputs": [],
   "source": []
  },
  {
   "cell_type": "code",
   "execution_count": null,
   "metadata": {},
   "outputs": [],
   "source": []
  },
  {
   "cell_type": "code",
   "execution_count": null,
   "metadata": {},
   "outputs": [],
   "source": []
  }
 ],
 "metadata": {
  "kernelspec": {
   "display_name": "Python 3",
   "language": "python",
   "name": "python3"
  },
  "language_info": {
   "codemirror_mode": {
    "name": "ipython",
    "version": 3
   },
   "file_extension": ".py",
   "mimetype": "text/x-python",
   "name": "python",
   "nbconvert_exporter": "python",
   "pygments_lexer": "ipython3",
   "version": "3.6.8"
  }
 },
 "nbformat": 4,
 "nbformat_minor": 4
}

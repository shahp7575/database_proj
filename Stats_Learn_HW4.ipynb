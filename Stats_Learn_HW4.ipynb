{
  "nbformat": 4,
  "nbformat_minor": 0,
  "metadata": {
    "colab": {
      "name": "Stats Learn - HW4.ipynb",
      "provenance": [],
      "collapsed_sections": [],
      "authorship_tag": "ABX9TyMmI3tkaCqV3ZkDjhvT69I2",
      "include_colab_link": true
    },
    "kernelspec": {
      "name": "python3",
      "display_name": "Python 3"
    }
  },
  "cells": [
    {
      "cell_type": "markdown",
      "metadata": {
        "id": "view-in-github",
        "colab_type": "text"
      },
      "source": [
        "<a href=\"https://colab.research.google.com/github/shahp7575/database_proj/blob/master/Stats_Learn_HW4.ipynb\" target=\"_parent\"><img src=\"https://colab.research.google.com/assets/colab-badge.svg\" alt=\"Open In Colab\"/></a>"
      ]
    },
    {
      "cell_type": "code",
      "metadata": {
        "id": "oHd8rZYHfTwb"
      },
      "source": [
        "import numpy as np\n",
        "import pandas as pd\n",
        "import matplotlib.pyplot as plt\n",
        "%matplotlib inline\n",
        "import seaborn as sns\n",
        "import scipy.stats as sps\n",
        "import warnings\n",
        "warnings.filterwarnings('ignore') \n",
        "\n",
        "# sklearn\n",
        "from sklearn.linear_model import LogisticRegression\n",
        "from sklearn.svm import  SVC\n",
        "from sklearn.tree import DecisionTreeClassifier\n",
        "from sklearn.ensemble import AdaBoostClassifier\n",
        "from sklearn.preprocessing import LabelEncoder, StandardScaler\n",
        "from sklearn.model_selection import cross_validate, train_test_split\n",
        "from sklearn.datasets import load_iris\n",
        "from sklearn.metrics import accuracy_score"
      ],
      "execution_count": 109,
      "outputs": []
    },
    {
      "cell_type": "code",
      "metadata": {
        "id": "Ih9oOPgZhRxy"
      },
      "source": [
        "data = load_iris()\n",
        "X = data.data\n",
        "y = data.target"
      ],
      "execution_count": 5,
      "outputs": []
    },
    {
      "cell_type": "code",
      "metadata": {
        "colab": {
          "base_uri": "https://localhost:8080/",
          "height": 0
        },
        "id": "fBbepcuUkiE4",
        "outputId": "03d28478-9cea-47ab-f1c0-59250a6020ec"
      },
      "source": [
        "data.target"
      ],
      "execution_count": 37,
      "outputs": [
        {
          "output_type": "execute_result",
          "data": {
            "text/plain": [
              "array([0, 0, 0, 0, 0, 0, 0, 0, 0, 0, 0, 0, 0, 0, 0, 0, 0, 0, 0, 0, 0, 0,\n",
              "       0, 0, 0, 0, 0, 0, 0, 0, 0, 0, 0, 0, 0, 0, 0, 0, 0, 0, 0, 0, 0, 0,\n",
              "       0, 0, 0, 0, 0, 0, 1, 1, 1, 1, 1, 1, 1, 1, 1, 1, 1, 1, 1, 1, 1, 1,\n",
              "       1, 1, 1, 1, 1, 1, 1, 1, 1, 1, 1, 1, 1, 1, 1, 1, 1, 1, 1, 1, 1, 1,\n",
              "       1, 1, 1, 1, 1, 1, 1, 1, 1, 1, 1, 1, 2, 2, 2, 2, 2, 2, 2, 2, 2, 2,\n",
              "       2, 2, 2, 2, 2, 2, 2, 2, 2, 2, 2, 2, 2, 2, 2, 2, 2, 2, 2, 2, 2, 2,\n",
              "       2, 2, 2, 2, 2, 2, 2, 2, 2, 2, 2, 2, 2, 2, 2, 2, 2, 2])"
            ]
          },
          "metadata": {
            "tags": []
          },
          "execution_count": 37
        }
      ]
    },
    {
      "cell_type": "code",
      "metadata": {
        "colab": {
          "base_uri": "https://localhost:8080/",
          "height": 0
        },
        "id": "ehdKDWG_iSQ5",
        "outputId": "830d3427-ae6c-46c4-b273-dfc90dc026b3"
      },
      "source": [
        "X.shape, y.shape"
      ],
      "execution_count": 18,
      "outputs": [
        {
          "output_type": "execute_result",
          "data": {
            "text/plain": [
              "((150, 4), (150,))"
            ]
          },
          "metadata": {
            "tags": []
          },
          "execution_count": 18
        }
      ]
    },
    {
      "cell_type": "markdown",
      "metadata": {
        "id": "leG8vEgghuS5"
      },
      "source": [
        "## Question 1: \n",
        "\n",
        "##### Decision Stump + AdaBoost model"
      ]
    },
    {
      "cell_type": "code",
      "metadata": {
        "id": "efsvGddChkI4"
      },
      "source": [
        "dec_stump = DecisionTreeClassifier(criterion='entropy', max_depth=1)"
      ],
      "execution_count": 12,
      "outputs": []
    },
    {
      "cell_type": "code",
      "metadata": {
        "id": "Mc7LmvyPhkgQ"
      },
      "source": [
        "pred = np.mean(cross_validate(dec_stump, X, y, cv=10)['test_score'])"
      ],
      "execution_count": 21,
      "outputs": []
    },
    {
      "cell_type": "code",
      "metadata": {
        "colab": {
          "base_uri": "https://localhost:8080/",
          "height": 0
        },
        "id": "L-vUBOCdh8SH",
        "outputId": "eef3d762-5620-4e11-b365-2741d682d488"
      },
      "source": [
        "print(\"Accuracy: \", pred*100)"
      ],
      "execution_count": 23,
      "outputs": [
        {
          "output_type": "stream",
          "text": [
            "Accuracy:  66.66666666666667\n"
          ],
          "name": "stdout"
        }
      ]
    },
    {
      "cell_type": "code",
      "metadata": {
        "id": "sdnnAONHrpqL"
      },
      "source": [
        "class Boosting:\n",
        "\n",
        "    def __init__(self,dataset,T,test_dataset):\n",
        "        self.dataset = dataset\n",
        "        self.train_X = dataset.data\n",
        "        self.train_y = dataset.target\n",
        "        self.T = T\n",
        "        self.test_dataset = test_dataset\n",
        "        self.alphas = None\n",
        "        self.models = None\n",
        "        self.accuracy = []\n",
        "        self.predictions = None\n",
        "    \n",
        "    def fit(self):\n",
        "        # Set the descriptive features and the target feature\n",
        "        X = self.train_X\n",
        "        y = self.train_y\n",
        "\n",
        "        # Initialize the weights of each sample with wi = 1/N and create a dataframe in which the evaluation is computed\n",
        "        Evaluation = pd.DataFrame(y.copy(), columns=['target'])\n",
        "        Evaluation['weights'] = 1/len(self.dataset) # Set the initial weights w = 1/N\n",
        "        \n",
        "\n",
        "        # Run the boosting algorithm by creating T \"weighted models\"\n",
        "        \n",
        "        alphas = [] \n",
        "        models = []\n",
        "        \n",
        "        for t in range(self.T):\n",
        "\n",
        "            # Train the Decision Stump(s)\n",
        "            Tree_model = DecisionTreeClassifier(criterion=\"entropy\",max_depth=1) # Mind the deth one --> Decision Stump\n",
        "            \n",
        "            # We know that we must train our decision stumps on weighted datasets where the weights depend on the results of\n",
        "            # the previous decision stumps. To accomplish that, we use the 'weights' column of the above created \n",
        "            # 'evaluation dataframe' together with the sample_weight parameter of the fit method.\n",
        "            # The documentation for the sample_weights parameter sais: \"[...] If None, then samples are equally weighted.\"\n",
        "            # Consequently, if NOT None, then the samples are NOT equally weighted and therewith we create a WEIGHTED dataset \n",
        "            # which is exactly what we want to have.\n",
        "            model = Tree_model.fit(X,y,sample_weight=np.array(Evaluation['weights'])) \n",
        "            \n",
        "            # Append the single weak classifiers to a list which is later on used to make the \n",
        "            # weighted decision\n",
        "            models.append(model)\n",
        "            predictions = model.predict(X)\n",
        "            score = model.score(X,y)\n",
        "\n",
        "            # Add values to the Evaluation DataFrame\n",
        "            Evaluation['predictions'] = predictions\n",
        "            Evaluation['evaluation'] = np.where(Evaluation['predictions'] == Evaluation['target'],1,0)\n",
        "            Evaluation['misclassified'] = np.where(Evaluation['predictions'] != Evaluation['target'],1,0)\n",
        "\n",
        "            # Calculate the misclassification rate and accuracy\n",
        "            accuracy = sum(Evaluation['evaluation'])/len(Evaluation['evaluation'])\n",
        "            misclassification = sum(Evaluation['misclassified'])/len(Evaluation['misclassified'])\n",
        "\n",
        "\n",
        "            # Caclulate the error\n",
        "            err = np.sum(Evaluation['weights']*Evaluation['misclassified'])/np.sum(Evaluation['weights'])\n",
        " \n",
        "   \n",
        "            # Calculate the alpha values\n",
        "            alpha = np.log((1-err)/err)\n",
        "            alphas.append(alpha)\n",
        "\n",
        "\n",
        "            # Update the weights wi --> These updated weights are used in the sample_weight parameter\n",
        "            # for the training of the next decision stump. \n",
        "            Evaluation['weights'] *= np.exp(alpha*Evaluation['misclassified'])\n",
        "\n",
        "            #print('The Accuracy of the {0}. model is : '.format(t+1),accuracy*100,'%')\n",
        "            #print('The missclassification rate is: ',misclassification*100,'%')\n",
        "        \n",
        "        self.alphas = alphas\n",
        "        self.models = models\n",
        "            \n",
        "    def predict(self):\n",
        "        X_test = self.test_dataset.data\n",
        "        y_test = self.test_dataset.target\n",
        "    \n",
        "        # With each model in the self.model list, make a prediction \n",
        "        \n",
        "        accuracy = []\n",
        "        predictions = []\n",
        "        \n",
        "        for alpha,model in zip(self.alphas,self.models):\n",
        "            prediction = alpha*model.predict(X_test) # We use the predict method for the single decisiontreeclassifier models in the list\n",
        "            predictions.append(prediction)\n",
        "            self.accuracy.append(np.sum(np.sign(np.sum(np.array(predictions),axis=0))==y_test)/len(predictions[0]))\n",
        "            self.predictions = np.sign(np.sum(np.array(predictions),axis=0))"
      ],
      "execution_count": 191,
      "outputs": []
    },
    {
      "cell_type": "code",
      "metadata": {
        "id": "CwhcG7M8rva-"
      },
      "source": [
        "num_learners = 50\n",
        "data = load_iris()\n",
        "\n",
        "for i in range(num_learners):\n",
        "  model = Boosting(data, i, data)\n",
        "  model.fit()\n",
        "  model.predict()"
      ],
      "execution_count": 192,
      "outputs": []
    },
    {
      "cell_type": "code",
      "metadata": {
        "colab": {
          "base_uri": "https://localhost:8080/",
          "height": 282
        },
        "id": "51CmYQGqryQs",
        "outputId": "d6c69bb3-fe08-43c7-c6e6-4c2dc9a9c911"
      },
      "source": [
        "plt.plot(range(len(model.accuracy)), model.accuracy, '-b')"
      ],
      "execution_count": 194,
      "outputs": [
        {
          "output_type": "execute_result",
          "data": {
            "text/plain": [
              "[<matplotlib.lines.Line2D at 0x7efcda925e10>]"
            ]
          },
          "metadata": {
            "tags": []
          },
          "execution_count": 194
        },
        {
          "output_type": "display_data",
          "data": {
            "image/png": "[encoded data removed]",
            "text/plain": [
              "<Figure size 432x288 with 1 Axes>"
            ]
          },
          "metadata": {
            "tags": [],
            "needs_background": "light"
          }
        }
      ]
    },
    {
      "cell_type": "markdown",
      "metadata": {
        "id": "Qf8tRDInmXxa"
      },
      "source": [
        "## Question 2: Spam Data\n",
        "\n",
        "##### (a) Try to play with the parametersinteraction.depth(J),shrinkage(ν),bag.fraction(η) andthe number of iterationsM.  Report the best test errors you are able to obtain, together with thecorrespondingJ, ν, ηandM."
      ]
    },
    {
      "cell_type": "code",
      "metadata": {
        "id": "Nq2GM2RsmXN7"
      },
      "source": [
        "X = pd.read_csv('spam.txt', sep=' ', header=None)\n",
        "y = pd.read_csv('spam_ind.txt', sep=' ', header=None)"
      ],
      "execution_count": 75,
      "outputs": []
    },
    {
      "cell_type": "code",
      "metadata": {
        "id": "INwjPFodoRpQ"
      },
      "source": [
        "X_train, X_test, y_train, y_test = train_test_split(X, y, random_state=42)"
      ],
      "execution_count": 83,
      "outputs": []
    },
    {
      "cell_type": "code",
      "metadata": {
        "id": "6yy8UmRwoBxG"
      },
      "source": [
        "scaler = StandardScaler()\n",
        "X_train_scaled = scaler.fit_transform(X_train)\n",
        "X_test_scaled = scaler.transform(X_test)"
      ],
      "execution_count": 84,
      "outputs": []
    },
    {
      "cell_type": "code",
      "metadata": {
        "id": "vEv4I5bzm9p9"
      },
      "source": [
        "def adaboost(depth, shrinkage=0.01, n_iters=10):\n",
        "\n",
        "  clf = AdaBoostClassifier(\n",
        "      DecisionTreeClassifier(max_depth=depth, random_state=42),\n",
        "      n_estimators=n_iters,\n",
        "      learning_rate=shrinkage\n",
        "  )\n",
        "\n",
        "  clf.fit(X_train_scaled, y_train)\n",
        "  y_pred = clf.predict(X_test_scaled)\n",
        "  print(f\"Error AdaBoost with depth {depth}, shrinkage {shrinkage}, n_iters {n_iters}: \", 1 - accuracy_score(y_test, y_pred))"
      ],
      "execution_count": 115,
      "outputs": []
    },
    {
      "cell_type": "code",
      "metadata": {
        "colab": {
          "base_uri": "https://localhost:8080/",
          "height": 0
        },
        "id": "50OjZ9qVpoFi",
        "outputId": "b7e24047-bb94-4230-d078-b2cb5e960e3e"
      },
      "source": [
        "# depth=1, shrinkage=0.01, n_iters=100\n",
        "adaboost(1, 0.01, 100)"
      ],
      "execution_count": 116,
      "outputs": [
        {
          "output_type": "stream",
          "text": [
            "Error AdaBoost with depth 1, shrinkage 0.01, n_iters 100:  0.32493483927019984\n"
          ],
          "name": "stdout"
        }
      ]
    },
    {
      "cell_type": "code",
      "metadata": {
        "colab": {
          "base_uri": "https://localhost:8080/",
          "height": 0
        },
        "id": "YDkgTjD8p-S0",
        "outputId": "fcaa71d5-6666-4962-acbe-0b25d269e6f6"
      },
      "source": [
        "# depth=5, shrinkage=0.05, n_iters=200\n",
        "adaboost(5, 0.05, 200)"
      ],
      "execution_count": 117,
      "outputs": [
        {
          "output_type": "stream",
          "text": [
            "Error AdaBoost with depth 5, shrinkage 0.05, n_iters 200:  0.4005212858384014\n"
          ],
          "name": "stdout"
        }
      ]
    },
    {
      "cell_type": "code",
      "metadata": {
        "colab": {
          "base_uri": "https://localhost:8080/",
          "height": 0
        },
        "id": "PmzOSDBPqHqD",
        "outputId": "2aa9b99a-cae1-4475-9ceb-0133b8b3dea7"
      },
      "source": [
        "# dept=10, shrinkage=0.1, n_iters=100\n",
        "adaboost(10, 0.1, 100)"
      ],
      "execution_count": 118,
      "outputs": [
        {
          "output_type": "stream",
          "text": [
            "Error AdaBoost with depth 10, shrinkage 0.1, n_iters 100:  0.38575152041702865\n"
          ],
          "name": "stdout"
        }
      ]
    },
    {
      "cell_type": "code",
      "metadata": {
        "colab": {
          "base_uri": "https://localhost:8080/",
          "height": 0
        },
        "id": "rANUR2r5qSSs",
        "outputId": "063d730d-2c2d-40f3-a968-aa934f1fbb7e"
      },
      "source": [
        "# depth=1, shrinkage=0.001, n_iters=200\n",
        "adaboost(1, 0.001, 200)"
      ],
      "execution_count": 119,
      "outputs": [
        {
          "output_type": "stream",
          "text": [
            "Error AdaBoost with depth 1, shrinkage 0.001, n_iters 200:  0.32319721980886185\n"
          ],
          "name": "stdout"
        }
      ]
    },
    {
      "cell_type": "markdown",
      "metadata": {
        "id": "35GGsUdjqs62"
      },
      "source": [
        "##### (b) Logistic, SVM, AdaBoost"
      ]
    },
    {
      "cell_type": "code",
      "metadata": {
        "colab": {
          "base_uri": "https://localhost:8080/",
          "height": 0
        },
        "id": "h4FaUr9Qq3qK",
        "outputId": "cf829554-c85d-4650-ee90-c3ed0f461a03"
      },
      "source": [
        "log_reg = LogisticRegression(random_state=42)\n",
        "svc = SVC(random_state=42)\n",
        "\n",
        "# fit logistict\n",
        "log_reg.fit(X_train_scaled, y_train)\n",
        "log_pred = log_reg.predict(X_test_scaled)\n",
        "print(\"Error on Logisitic Regression: \", 1 - accuracy_score(y_test, log_pred))\n",
        "\n",
        "# fit svm\n",
        "svc.fit(X_train_scaled, y_train)\n",
        "svc_pred = svc.predict(X_test_scaled)\n",
        "print(\"Error on SVMs: \", 1 - accuracy_score(y_test, svc_pred))\n",
        "\n",
        "# adaboost\n",
        "adaboost(1, 0.001, 200)"
      ],
      "execution_count": 120,
      "outputs": [
        {
          "output_type": "stream",
          "text": [
            "Error on Logisitic Regression:  0.3223284100781929\n",
            "Error on SVMs:  0.32927888792354476\n",
            "Error AdaBoost with depth 1, shrinkage 0.001, n_iters 200:  0.32319721980886185\n"
          ],
          "name": "stdout"
        }
      ]
    },
    {
      "cell_type": "markdown",
      "metadata": {
        "id": "sx0ujq973fao"
      },
      "source": [
        "## Question 3 Caravan \n",
        "\n",
        "##### (a) Fit a boosting model to the training set withPurchase as the response and the other variables aspredictors.  Use 1,000 trees, and a shrinkage value of 0.01.  Which predictors appear to be the most important?"
      ]
    },
    {
      "cell_type": "code",
      "metadata": {
        "id": "zH19Tne-3peU"
      },
      "source": [
        "caravan = pd.read_csv('https://raw.githubusercontent.com/JWarmenhoven/ISLR-python/master/Notebooks/Data/Caravan.csv')"
      ],
      "execution_count": 121,
      "outputs": []
    },
    {
      "cell_type": "code",
      "metadata": {
        "colab": {
          "base_uri": "https://localhost:8080/",
          "height": 270
        },
        "id": "FyYCpAkL36Pe",
        "outputId": "16952fa0-8d1b-4f48-93a0-97e0f017c7a1"
      },
      "source": [
        "caravan.head()"
      ],
      "execution_count": 125,
      "outputs": [
        {
          "output_type": "execute_result",
          "data": {
            "text/html": [
              "<div>\n",
              "<style scoped>\n",
              "    .dataframe tbody tr th:only-of-type {\n",
              "        vertical-align: middle;\n",
              "    }\n",
              "\n",
              "    .dataframe tbody tr th {\n",
              "        vertical-align: top;\n",
              "    }\n",
              "\n",
              "    .dataframe thead th {\n",
              "        text-align: right;\n",
              "    }\n",
              "</style>\n",
              "<table border=\"1\" class=\"dataframe\">\n",
              "  <thead>\n",
              "    <tr style=\"text-align: right;\">\n",
              "      <th></th>\n",
              "      <th>Unnamed: 0</th>\n",
              "      <th>MOSTYPE</th>\n",
              "      <th>MAANTHUI</th>\n",
              "      <th>MGEMOMV</th>\n",
              "      <th>MGEMLEEF</th>\n",
              "      <th>MOSHOOFD</th>\n",
              "      <th>MGODRK</th>\n",
              "      <th>MGODPR</th>\n",
              "      <th>MGODOV</th>\n",
              "      <th>MGODGE</th>\n",
              "      <th>MRELGE</th>\n",
              "      <th>MRELSA</th>\n",
              "      <th>MRELOV</th>\n",
              "      <th>MFALLEEN</th>\n",
              "      <th>MFGEKIND</th>\n",
              "      <th>MFWEKIND</th>\n",
              "      <th>MOPLHOOG</th>\n",
              "      <th>MOPLMIDD</th>\n",
              "      <th>MOPLLAAG</th>\n",
              "      <th>MBERHOOG</th>\n",
              "      <th>MBERZELF</th>\n",
              "      <th>MBERBOER</th>\n",
              "      <th>MBERMIDD</th>\n",
              "      <th>MBERARBG</th>\n",
              "      <th>MBERARBO</th>\n",
              "      <th>MSKA</th>\n",
              "      <th>MSKB1</th>\n",
              "      <th>MSKB2</th>\n",
              "      <th>MSKC</th>\n",
              "      <th>MSKD</th>\n",
              "      <th>MHHUUR</th>\n",
              "      <th>MHKOOP</th>\n",
              "      <th>MAUT1</th>\n",
              "      <th>MAUT2</th>\n",
              "      <th>MAUT0</th>\n",
              "      <th>MZFONDS</th>\n",
              "      <th>MZPART</th>\n",
              "      <th>MINKM30</th>\n",
              "      <th>MINK3045</th>\n",
              "      <th>MINK4575</th>\n",
              "      <th>...</th>\n",
              "      <th>PPERSAUT</th>\n",
              "      <th>PBESAUT</th>\n",
              "      <th>PMOTSCO</th>\n",
              "      <th>PVRAAUT</th>\n",
              "      <th>PAANHANG</th>\n",
              "      <th>PTRACTOR</th>\n",
              "      <th>PWERKT</th>\n",
              "      <th>PBROM</th>\n",
              "      <th>PLEVEN</th>\n",
              "      <th>PPERSONG</th>\n",
              "      <th>PGEZONG</th>\n",
              "      <th>PWAOREG</th>\n",
              "      <th>PBRAND</th>\n",
              "      <th>PZEILPL</th>\n",
              "      <th>PPLEZIER</th>\n",
              "      <th>PFIETS</th>\n",
              "      <th>PINBOED</th>\n",
              "      <th>PBYSTAND</th>\n",
              "      <th>AWAPART</th>\n",
              "      <th>AWABEDR</th>\n",
              "      <th>AWALAND</th>\n",
              "      <th>APERSAUT</th>\n",
              "      <th>ABESAUT</th>\n",
              "      <th>AMOTSCO</th>\n",
              "      <th>AVRAAUT</th>\n",
              "      <th>AAANHANG</th>\n",
              "      <th>ATRACTOR</th>\n",
              "      <th>AWERKT</th>\n",
              "      <th>ABROM</th>\n",
              "      <th>ALEVEN</th>\n",
              "      <th>APERSONG</th>\n",
              "      <th>AGEZONG</th>\n",
              "      <th>AWAOREG</th>\n",
              "      <th>ABRAND</th>\n",
              "      <th>AZEILPL</th>\n",
              "      <th>APLEZIER</th>\n",
              "      <th>AFIETS</th>\n",
              "      <th>AINBOED</th>\n",
              "      <th>ABYSTAND</th>\n",
              "      <th>Purchase</th>\n",
              "    </tr>\n",
              "  </thead>\n",
              "  <tbody>\n",
              "    <tr>\n",
              "      <th>0</th>\n",
              "      <td>1</td>\n",
              "      <td>33</td>\n",
              "      <td>1</td>\n",
              "      <td>3</td>\n",
              "      <td>2</td>\n",
              "      <td>8</td>\n",
              "      <td>0</td>\n",
              "      <td>5</td>\n",
              "      <td>1</td>\n",
              "      <td>3</td>\n",
              "      <td>7</td>\n",
              "      <td>0</td>\n",
              "      <td>2</td>\n",
              "      <td>1</td>\n",
              "      <td>2</td>\n",
              "      <td>6</td>\n",
              "      <td>1</td>\n",
              "      <td>2</td>\n",
              "      <td>7</td>\n",
              "      <td>1</td>\n",
              "      <td>0</td>\n",
              "      <td>1</td>\n",
              "      <td>2</td>\n",
              "      <td>5</td>\n",
              "      <td>2</td>\n",
              "      <td>1</td>\n",
              "      <td>1</td>\n",
              "      <td>2</td>\n",
              "      <td>6</td>\n",
              "      <td>1</td>\n",
              "      <td>1</td>\n",
              "      <td>8</td>\n",
              "      <td>8</td>\n",
              "      <td>0</td>\n",
              "      <td>1</td>\n",
              "      <td>8</td>\n",
              "      <td>1</td>\n",
              "      <td>0</td>\n",
              "      <td>4</td>\n",
              "      <td>5</td>\n",
              "      <td>...</td>\n",
              "      <td>6</td>\n",
              "      <td>0</td>\n",
              "      <td>0</td>\n",
              "      <td>0</td>\n",
              "      <td>0</td>\n",
              "      <td>0</td>\n",
              "      <td>0</td>\n",
              "      <td>0</td>\n",
              "      <td>0</td>\n",
              "      <td>0</td>\n",
              "      <td>0</td>\n",
              "      <td>0</td>\n",
              "      <td>5</td>\n",
              "      <td>0</td>\n",
              "      <td>0</td>\n",
              "      <td>0</td>\n",
              "      <td>0</td>\n",
              "      <td>0</td>\n",
              "      <td>0</td>\n",
              "      <td>0</td>\n",
              "      <td>0</td>\n",
              "      <td>1</td>\n",
              "      <td>0</td>\n",
              "      <td>0</td>\n",
              "      <td>0</td>\n",
              "      <td>0</td>\n",
              "      <td>0</td>\n",
              "      <td>0</td>\n",
              "      <td>0</td>\n",
              "      <td>0</td>\n",
              "      <td>0</td>\n",
              "      <td>0</td>\n",
              "      <td>0</td>\n",
              "      <td>1</td>\n",
              "      <td>0</td>\n",
              "      <td>0</td>\n",
              "      <td>0</td>\n",
              "      <td>0</td>\n",
              "      <td>0</td>\n",
              "      <td>No</td>\n",
              "    </tr>\n",
              "    <tr>\n",
              "      <th>1</th>\n",
              "      <td>2</td>\n",
              "      <td>37</td>\n",
              "      <td>1</td>\n",
              "      <td>2</td>\n",
              "      <td>2</td>\n",
              "      <td>8</td>\n",
              "      <td>1</td>\n",
              "      <td>4</td>\n",
              "      <td>1</td>\n",
              "      <td>4</td>\n",
              "      <td>6</td>\n",
              "      <td>2</td>\n",
              "      <td>2</td>\n",
              "      <td>0</td>\n",
              "      <td>4</td>\n",
              "      <td>5</td>\n",
              "      <td>0</td>\n",
              "      <td>5</td>\n",
              "      <td>4</td>\n",
              "      <td>0</td>\n",
              "      <td>0</td>\n",
              "      <td>0</td>\n",
              "      <td>5</td>\n",
              "      <td>0</td>\n",
              "      <td>4</td>\n",
              "      <td>0</td>\n",
              "      <td>2</td>\n",
              "      <td>3</td>\n",
              "      <td>5</td>\n",
              "      <td>0</td>\n",
              "      <td>2</td>\n",
              "      <td>7</td>\n",
              "      <td>7</td>\n",
              "      <td>1</td>\n",
              "      <td>2</td>\n",
              "      <td>6</td>\n",
              "      <td>3</td>\n",
              "      <td>2</td>\n",
              "      <td>0</td>\n",
              "      <td>5</td>\n",
              "      <td>...</td>\n",
              "      <td>0</td>\n",
              "      <td>0</td>\n",
              "      <td>0</td>\n",
              "      <td>0</td>\n",
              "      <td>0</td>\n",
              "      <td>0</td>\n",
              "      <td>0</td>\n",
              "      <td>0</td>\n",
              "      <td>0</td>\n",
              "      <td>0</td>\n",
              "      <td>0</td>\n",
              "      <td>0</td>\n",
              "      <td>2</td>\n",
              "      <td>0</td>\n",
              "      <td>0</td>\n",
              "      <td>0</td>\n",
              "      <td>0</td>\n",
              "      <td>0</td>\n",
              "      <td>2</td>\n",
              "      <td>0</td>\n",
              "      <td>0</td>\n",
              "      <td>0</td>\n",
              "      <td>0</td>\n",
              "      <td>0</td>\n",
              "      <td>0</td>\n",
              "      <td>0</td>\n",
              "      <td>0</td>\n",
              "      <td>0</td>\n",
              "      <td>0</td>\n",
              "      <td>0</td>\n",
              "      <td>0</td>\n",
              "      <td>0</td>\n",
              "      <td>0</td>\n",
              "      <td>1</td>\n",
              "      <td>0</td>\n",
              "      <td>0</td>\n",
              "      <td>0</td>\n",
              "      <td>0</td>\n",
              "      <td>0</td>\n",
              "      <td>No</td>\n",
              "    </tr>\n",
              "    <tr>\n",
              "      <th>2</th>\n",
              "      <td>3</td>\n",
              "      <td>37</td>\n",
              "      <td>1</td>\n",
              "      <td>2</td>\n",
              "      <td>2</td>\n",
              "      <td>8</td>\n",
              "      <td>0</td>\n",
              "      <td>4</td>\n",
              "      <td>2</td>\n",
              "      <td>4</td>\n",
              "      <td>3</td>\n",
              "      <td>2</td>\n",
              "      <td>4</td>\n",
              "      <td>4</td>\n",
              "      <td>4</td>\n",
              "      <td>2</td>\n",
              "      <td>0</td>\n",
              "      <td>5</td>\n",
              "      <td>4</td>\n",
              "      <td>0</td>\n",
              "      <td>0</td>\n",
              "      <td>0</td>\n",
              "      <td>7</td>\n",
              "      <td>0</td>\n",
              "      <td>2</td>\n",
              "      <td>0</td>\n",
              "      <td>5</td>\n",
              "      <td>0</td>\n",
              "      <td>4</td>\n",
              "      <td>0</td>\n",
              "      <td>7</td>\n",
              "      <td>2</td>\n",
              "      <td>7</td>\n",
              "      <td>0</td>\n",
              "      <td>2</td>\n",
              "      <td>9</td>\n",
              "      <td>0</td>\n",
              "      <td>4</td>\n",
              "      <td>5</td>\n",
              "      <td>0</td>\n",
              "      <td>...</td>\n",
              "      <td>6</td>\n",
              "      <td>0</td>\n",
              "      <td>0</td>\n",
              "      <td>0</td>\n",
              "      <td>0</td>\n",
              "      <td>0</td>\n",
              "      <td>0</td>\n",
              "      <td>0</td>\n",
              "      <td>0</td>\n",
              "      <td>0</td>\n",
              "      <td>0</td>\n",
              "      <td>0</td>\n",
              "      <td>2</td>\n",
              "      <td>0</td>\n",
              "      <td>0</td>\n",
              "      <td>0</td>\n",
              "      <td>0</td>\n",
              "      <td>0</td>\n",
              "      <td>1</td>\n",
              "      <td>0</td>\n",
              "      <td>0</td>\n",
              "      <td>1</td>\n",
              "      <td>0</td>\n",
              "      <td>0</td>\n",
              "      <td>0</td>\n",
              "      <td>0</td>\n",
              "      <td>0</td>\n",
              "      <td>0</td>\n",
              "      <td>0</td>\n",
              "      <td>0</td>\n",
              "      <td>0</td>\n",
              "      <td>0</td>\n",
              "      <td>0</td>\n",
              "      <td>1</td>\n",
              "      <td>0</td>\n",
              "      <td>0</td>\n",
              "      <td>0</td>\n",
              "      <td>0</td>\n",
              "      <td>0</td>\n",
              "      <td>No</td>\n",
              "    </tr>\n",
              "    <tr>\n",
              "      <th>3</th>\n",
              "      <td>4</td>\n",
              "      <td>9</td>\n",
              "      <td>1</td>\n",
              "      <td>3</td>\n",
              "      <td>3</td>\n",
              "      <td>3</td>\n",
              "      <td>2</td>\n",
              "      <td>3</td>\n",
              "      <td>2</td>\n",
              "      <td>4</td>\n",
              "      <td>5</td>\n",
              "      <td>2</td>\n",
              "      <td>2</td>\n",
              "      <td>2</td>\n",
              "      <td>3</td>\n",
              "      <td>4</td>\n",
              "      <td>3</td>\n",
              "      <td>4</td>\n",
              "      <td>2</td>\n",
              "      <td>4</td>\n",
              "      <td>0</td>\n",
              "      <td>0</td>\n",
              "      <td>3</td>\n",
              "      <td>1</td>\n",
              "      <td>2</td>\n",
              "      <td>3</td>\n",
              "      <td>2</td>\n",
              "      <td>1</td>\n",
              "      <td>4</td>\n",
              "      <td>0</td>\n",
              "      <td>5</td>\n",
              "      <td>4</td>\n",
              "      <td>9</td>\n",
              "      <td>0</td>\n",
              "      <td>0</td>\n",
              "      <td>7</td>\n",
              "      <td>2</td>\n",
              "      <td>1</td>\n",
              "      <td>5</td>\n",
              "      <td>3</td>\n",
              "      <td>...</td>\n",
              "      <td>6</td>\n",
              "      <td>0</td>\n",
              "      <td>0</td>\n",
              "      <td>0</td>\n",
              "      <td>0</td>\n",
              "      <td>0</td>\n",
              "      <td>0</td>\n",
              "      <td>0</td>\n",
              "      <td>0</td>\n",
              "      <td>0</td>\n",
              "      <td>0</td>\n",
              "      <td>0</td>\n",
              "      <td>2</td>\n",
              "      <td>0</td>\n",
              "      <td>0</td>\n",
              "      <td>0</td>\n",
              "      <td>0</td>\n",
              "      <td>0</td>\n",
              "      <td>0</td>\n",
              "      <td>0</td>\n",
              "      <td>0</td>\n",
              "      <td>1</td>\n",
              "      <td>0</td>\n",
              "      <td>0</td>\n",
              "      <td>0</td>\n",
              "      <td>0</td>\n",
              "      <td>0</td>\n",
              "      <td>0</td>\n",
              "      <td>0</td>\n",
              "      <td>0</td>\n",
              "      <td>0</td>\n",
              "      <td>0</td>\n",
              "      <td>0</td>\n",
              "      <td>1</td>\n",
              "      <td>0</td>\n",
              "      <td>0</td>\n",
              "      <td>0</td>\n",
              "      <td>0</td>\n",
              "      <td>0</td>\n",
              "      <td>No</td>\n",
              "    </tr>\n",
              "    <tr>\n",
              "      <th>4</th>\n",
              "      <td>5</td>\n",
              "      <td>40</td>\n",
              "      <td>1</td>\n",
              "      <td>4</td>\n",
              "      <td>2</td>\n",
              "      <td>10</td>\n",
              "      <td>1</td>\n",
              "      <td>4</td>\n",
              "      <td>1</td>\n",
              "      <td>4</td>\n",
              "      <td>7</td>\n",
              "      <td>1</td>\n",
              "      <td>2</td>\n",
              "      <td>2</td>\n",
              "      <td>4</td>\n",
              "      <td>4</td>\n",
              "      <td>5</td>\n",
              "      <td>4</td>\n",
              "      <td>0</td>\n",
              "      <td>0</td>\n",
              "      <td>5</td>\n",
              "      <td>4</td>\n",
              "      <td>0</td>\n",
              "      <td>0</td>\n",
              "      <td>0</td>\n",
              "      <td>9</td>\n",
              "      <td>0</td>\n",
              "      <td>0</td>\n",
              "      <td>0</td>\n",
              "      <td>0</td>\n",
              "      <td>4</td>\n",
              "      <td>5</td>\n",
              "      <td>6</td>\n",
              "      <td>2</td>\n",
              "      <td>1</td>\n",
              "      <td>5</td>\n",
              "      <td>4</td>\n",
              "      <td>0</td>\n",
              "      <td>0</td>\n",
              "      <td>9</td>\n",
              "      <td>...</td>\n",
              "      <td>0</td>\n",
              "      <td>0</td>\n",
              "      <td>0</td>\n",
              "      <td>0</td>\n",
              "      <td>0</td>\n",
              "      <td>0</td>\n",
              "      <td>0</td>\n",
              "      <td>0</td>\n",
              "      <td>0</td>\n",
              "      <td>0</td>\n",
              "      <td>0</td>\n",
              "      <td>0</td>\n",
              "      <td>6</td>\n",
              "      <td>0</td>\n",
              "      <td>0</td>\n",
              "      <td>0</td>\n",
              "      <td>0</td>\n",
              "      <td>0</td>\n",
              "      <td>0</td>\n",
              "      <td>0</td>\n",
              "      <td>0</td>\n",
              "      <td>0</td>\n",
              "      <td>0</td>\n",
              "      <td>0</td>\n",
              "      <td>0</td>\n",
              "      <td>0</td>\n",
              "      <td>0</td>\n",
              "      <td>0</td>\n",
              "      <td>0</td>\n",
              "      <td>0</td>\n",
              "      <td>0</td>\n",
              "      <td>0</td>\n",
              "      <td>0</td>\n",
              "      <td>1</td>\n",
              "      <td>0</td>\n",
              "      <td>0</td>\n",
              "      <td>0</td>\n",
              "      <td>0</td>\n",
              "      <td>0</td>\n",
              "      <td>No</td>\n",
              "    </tr>\n",
              "  </tbody>\n",
              "</table>\n",
              "<p>5 rows × 87 columns</p>\n",
              "</div>"
            ],
            "text/plain": [
              "   Unnamed: 0  MOSTYPE  MAANTHUI  MGEMOMV  ...  AFIETS  AINBOED  ABYSTAND  Purchase\n",
              "0           1       33         1        3  ...       0        0         0        No\n",
              "1           2       37         1        2  ...       0        0         0        No\n",
              "2           3       37         1        2  ...       0        0         0        No\n",
              "3           4        9         1        3  ...       0        0         0        No\n",
              "4           5       40         1        4  ...       0        0         0        No\n",
              "\n",
              "[5 rows x 87 columns]"
            ]
          },
          "metadata": {
            "tags": []
          },
          "execution_count": 125
        }
      ]
    },
    {
      "cell_type": "code",
      "metadata": {
        "id": "h5rIt3yw39F7"
      },
      "source": [
        "X = caravan.iloc[:, 1:-1]\n",
        "y = caravan.iloc[:, -1]\n",
        "\n",
        "X_train = X.iloc[:1000, :]\n",
        "X_test = X.iloc[1000:, :]\n",
        "y_train = y.iloc[:1000]\n",
        "y_test = y.iloc[1000:]"
      ],
      "execution_count": 132,
      "outputs": []
    },
    {
      "cell_type": "code",
      "metadata": {
        "colab": {
          "base_uri": "https://localhost:8080/",
          "height": 0
        },
        "id": "G3GQtPb839CP",
        "outputId": "26b22225-63e8-43d0-c956-78590f706428"
      },
      "source": [
        "X_train.shape, X_test.shape, y_train.shape, y_test.shape"
      ],
      "execution_count": 133,
      "outputs": [
        {
          "output_type": "execute_result",
          "data": {
            "text/plain": [
              "((1000, 85), (4822, 85), (1000,), (4822,))"
            ]
          },
          "metadata": {
            "tags": []
          },
          "execution_count": 133
        }
      ]
    },
    {
      "cell_type": "code",
      "metadata": {
        "id": "6d5nyd4K38-u"
      },
      "source": [
        "# preprocessing\n",
        "scaler = StandardScaler()\n",
        "encoder = LabelEncoder()\n",
        "\n",
        "X_train_scaled = scaler.fit_transform(X_train)\n",
        "X_test_scaled = scaler.transform(X_test)\n",
        "\n",
        "y_train_encoded = encoder.fit_transform(y_train)\n",
        "y_test_encoded = encoder.transform(y_test)"
      ],
      "execution_count": 134,
      "outputs": []
    },
    {
      "cell_type": "code",
      "metadata": {
        "colab": {
          "base_uri": "https://localhost:8080/",
          "height": 0
        },
        "id": "FnNF23H8387D",
        "outputId": "d7f85554-6329-4c67-bb2d-dba0a272de9b"
      },
      "source": [
        "X_train_scaled.shape, X_test_scaled.shape, y_train_encoded.shape, y_test_encoded.shape"
      ],
      "execution_count": 135,
      "outputs": [
        {
          "output_type": "execute_result",
          "data": {
            "text/plain": [
              "((1000, 85), (4822, 85), (1000,), (4822,))"
            ]
          },
          "metadata": {
            "tags": []
          },
          "execution_count": 135
        }
      ]
    },
    {
      "cell_type": "code",
      "metadata": {
        "colab": {
          "base_uri": "https://localhost:8080/",
          "height": 0
        },
        "id": "4u6poCKY38zz",
        "outputId": "d182330c-2cfa-489f-e97b-0363234d1cae"
      },
      "source": [
        "clf = AdaBoostClassifier(\n",
        "      DecisionTreeClassifier(max_depth=100, random_state=42),\n",
        "      learning_rate=0.01\n",
        "  )\n",
        "clf.fit(X_train_scaled, y_train_encoded)\n",
        "y_pred = clf.predict(X_train_scaled)\n",
        "print(f\"Training Error AdaBoost with depth 100, shrinkage 0.01: \", 1 - accuracy_score(y_train_encoded, y_pred))\n",
        "print(\"Most important predictor: \", X.columns[np.argmax(clf.feature_importances_)])"
      ],
      "execution_count": 165,
      "outputs": [
        {
          "output_type": "stream",
          "text": [
            "Training Error AdaBoost with depth 100, shrinkage 0.01:  0.0010000000000000009\n",
            "Most important predictor:  MINK3045\n"
          ],
          "name": "stdout"
        }
      ]
    },
    {
      "cell_type": "markdown",
      "metadata": {
        "id": "9RrbjGr4HUpY"
      },
      "source": [
        "##### (b) Predict response on the test data"
      ]
    },
    {
      "cell_type": "code",
      "metadata": {
        "colab": {
          "base_uri": "https://localhost:8080/",
          "height": 0
        },
        "id": "MOjvt7nH38vR",
        "outputId": "8840f520-9ae6-4012-ed8f-ea471393484f"
      },
      "source": [
        "clf = AdaBoostClassifier(\n",
        "      DecisionTreeClassifier(max_depth=100, random_state=42),\n",
        "      learning_rate=0.01\n",
        "  )\n",
        "clf.fit(X_train_scaled, y_train_encoded)\n",
        "y_pred = clf.predict(X_test_scaled)\n",
        "print(f\"Test Error AdaBoost with depth 100, shrinkage 0.01: \", 1 - accuracy_score(y_test_encoded, y_pred))"
      ],
      "execution_count": 166,
      "outputs": [
        {
          "output_type": "stream",
          "text": [
            "Test Error AdaBoost with depth 100, shrinkage 0.01:  0.10058067192036502\n"
          ],
          "name": "stdout"
        }
      ]
    },
    {
      "cell_type": "code",
      "metadata": {
        "id": "YjrXh3jYHZUC"
      },
      "source": [
        "y_pred_prob = clf.predict_proba(X_test_scaled)\n",
        "\n",
        "purchase_ratio = 0.2\n",
        "y_pred_20 = y_pred_prob[:, 1] > purchase_ratio"
      ],
      "execution_count": 173,
      "outputs": []
    },
    {
      "cell_type": "code",
      "metadata": {
        "colab": {
          "base_uri": "https://localhost:8080/",
          "height": 0
        },
        "id": "fmA1otSUHjCI",
        "outputId": "e7422844-e32d-4506-f00e-565db69f7641"
      },
      "source": [
        "print(\"Fraction of people predicted to make a purchase if probability of purchase is > 20%: \", y_pred_20.sum())"
      ],
      "execution_count": 177,
      "outputs": [
        {
          "output_type": "stream",
          "text": [
            "Fraction of people predicted to make a purchase if probability of purchase is > 20%:  277\n"
          ],
          "name": "stdout"
        }
      ]
    },
    {
      "cell_type": "markdown",
      "metadata": {
        "id": "E9MzLDBXINnV"
      },
      "source": [
        "##### (c) Logistic Regression"
      ]
    },
    {
      "cell_type": "code",
      "metadata": {
        "colab": {
          "base_uri": "https://localhost:8080/",
          "height": 0
        },
        "id": "75_6dxIiISmu",
        "outputId": "9ef9784b-192a-4935-ff1f-654beb5135a9"
      },
      "source": [
        "print(\"-\"*100)\n",
        "print(\"\\t\\t\\tLOGISTIC REGRESSION\")\n",
        "print(\"-\"*100)\n",
        "\n",
        "log_reg = LogisticRegression(random_state=42)\n",
        "\n",
        "log_reg.fit(X_train_scaled, y_train_encoded)\n",
        "\n",
        "y_pred = log_reg.predict(X_train_scaled)\n",
        "print(\"Training error: \",  1 - accuracy_score(y_train_encoded, y_pred))\n",
        "\n",
        "y_pred = log_reg.predict(X_test_scaled)\n",
        "print(\"Testing error: \",  1 - accuracy_score(y_test_encoded, y_pred))\n",
        "\n",
        "y_pred_prob = log_reg.predict_proba(X_test_scaled)\n",
        "\n",
        "purchase_ratio = 0.2\n",
        "y_pred_20 = y_pred_prob[:, 1] > purchase_ratio\n",
        "\n",
        "print(\"Fraction of people predicted to make a purchase if probability of purchase is > 20%: \", y_pred_20.sum())"
      ],
      "execution_count": 181,
      "outputs": [
        {
          "output_type": "stream",
          "text": [
            "----------------------------------------------------------------------------------------------------\n",
            "\t\t\tLOGISTIC REGRESSION\n",
            "----------------------------------------------------------------------------------------------------\n",
            "Training error:  0.05700000000000005\n",
            "Testing error:  0.06594773952716715\n",
            "Fraction of people predicted to make a purchase if probability of purchase is > 20%:  290\n"
          ],
          "name": "stdout"
        }
      ]
    },
    {
      "cell_type": "markdown",
      "metadata": {
        "id": "WEB9buLoI2VW"
      },
      "source": [
        "Logistic Regression performs slightly better on the test set. "
      ]
    },
    {
      "cell_type": "code",
      "metadata": {
        "id": "NpC_pLtslMgu"
      },
      "source": [
        ""
      ],
      "execution_count": null,
      "outputs": []
    }
  ]
}